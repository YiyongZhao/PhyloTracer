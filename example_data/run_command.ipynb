{
 "cells": [
  {
   "cell_type": "markdown",
   "id": "08fe104c",
   "metadata": {},
   "source": [
    "# PhyloTracer mannual\n",
    "\n",
    "## 1. Introduction\n",
    "PhyloTracer is a user-friendly toolkit designed for comprehensive phylogenetic analysis, including tree format manipulation, gene tree rooting, detection of gene duplication origins and losses, ortholog retrieval, phylogenetic noise elimination, gene tree topology summarization, species hybridization detection, and visualization. By enabling more accurate rooting of gene trees, PhyloTracer lays a solid foundation for inferring putative orthologous genes. Additionally, it provides tools to statistically summarize topology types, such as ABAB-ABBA models, facilitating the identification of hybridization signals.\n",
    "\n",
    "**Version：** 1.0.0  \n",
    "**Module features：**\n",
    "- PhyloTree_CollapseExpand: To transform a phylogenetic tree with Newick format into a ‘comb’ structure based on a predefined support value threshold. It can also revert the 'comb' structure to the binary tree, allowing it to meet the standard software analysis requirements.\n",
    "- PhyloSupport_Scaler: To recalibrate support values (bootstrap/posterior probability) for a phylogenetic tree, scaling them between [0,1] and [1,100] ranges for computational requirements.\n",
    "- BranchLength_NumericConverter: To convert branch length values from string format to numeric format for a phylogenetic tree, which is critical for quantitative analysis and computational operations.\n",
    "- Phylo_Rooter: Enables an accuracy method for gene tree rooting and enhancing the downstream evolutionary genomic analysis.\n",
    "- OrthoFilter_LB: To prune phylogenomic noises from single-copy and multi-copy gene family trees by removing the tips with long branch lengths.\n",
    "- OrthoFilter_Mono: To prune phylogenomic noise from single-copy and multi-copy gene family trees. It removes outliers and paralogs based on predefined taxonomic constraints (e.g., ensuring members from taxa such as families or orders form monophyletic groups). Caution: Groupings should be selected with care, prioritizing well-established relationships unless otherwise required for specific objectives.\n",
    "- TreeTopology_Summarizer: To enumerate the frequency of both absolute and relative topologies for single-copy gene trees or interested predefined clades.\n",
    "- Tree_Visualizer: To visualize gene duplication events on phylogenetic trees by marking duplication nodes, adding color-coded labels, integrating gene expression data, and summarizing duplications on the species tree for intuitive evolutionary analysis.\n",
    "- GD_Detector: To identify gene duplication events by reconciliation of gene family trees to a species tree.\n",
    "- GD_Visualizer: To visualize gene duplication detection in the context of a species tree.\n",
    "- GD_Loss_Tracker: To track the gene duplication loss event starting across each node/tip from a specific GD burst event in the species tree.\n",
    "- GD_Loss_Visualizer: To visualize the summary of gene duplication loss event counts for each node/tip in the context of the species tree.\n",
    "- Ortho_Retriever: To rapidly infer putative single-copy orthologs by splitting paralogs from large-scale gene family trees across multiple species.\n",
    "- Hybrid_Tracer: To detect hybridization signals for each potential GD burst event across species tree by using the D-statistic (ABAB-BABA) test.\n",
    "- Hybrid_Visualizer: To visualize hybridization signals, highlighting support from gene tree topologies and D-statistic signals.\n",
    "- HaploFinder: Distinguishing ancient genome recombination events including gene conversions and crossovers by tracing subgenome haplotypes through phylogenomic profiling.\n",
    "\n",
    "\n",
    "## 2. Installation Guide\n",
    "\n",
    "### Dependencies\n",
    "PhyloTracer requires the following dependencies:\n",
    "- **Python version:** Python 3.0+\n",
    "- **Required modules:**\n",
    "  - ete3\n",
    "  - HyDe\n",
    "  - pandas\n",
    "  - numpy\n",
    "  - tqdm\n",
    "  - time\n",
    "  - pypdf4\n",
    "  - matplotlib\n",
    "  - pyqt5\n",
    "\n",
    "### Installing with Conda\n",
    "```bash\n",
    "# Clone the repository\n",
    "git clone https://github.com/YiyongZhao/PhyloTracer.git\n",
    "cd PhyloTracer\n",
    "\n",
    "# Create and activate the Conda environment\n",
    "conda env create -f environment.yml\n",
    "conda activate phylotracer\n",
    "```\n",
    "\n",
    "### Installing with pip\n",
    "```bash\n",
    "chmod +x install_packages.sh\n",
    "bash install_packages.sh\n",
    "```\n",
    "\n",
    "### Installing from PyPI\n",
    "```bash\n",
    "pip install PhyloTracer\n",
    "```\n",
    "\n",
    "---\n",
    "\n",
    "## 3. Example input files\n",
    "The following input files are required, with two columns separated by a tab key:\n",
    "\n",
    "```plaintext\n",
    "Provide a two-column file in TSV format: each line contains <gene_family_IDs><TAB><file_paths>\n",
    "------------GF_ID2path.imap-------------------------------------------------------------------------------------------------------\n",
    "OG_104001  example_data/Phylo_Rooter/OG_104001.treefile   \n",
    "OG_104002  example_data/Phylo_Rooter/OG_104002.treefile    \n",
    "OG_104003  example_data/Phylo_Rooter/OG_104003.treefile\n",
    "\n",
    "Provide a two-column file in TSV format: each line contains <gene_id><TAB><sequence_length>\n",
    "------------gene2length.imap------------------------------------------------------------------------------------------------------\n",
    "AMTR_s00796p00010580  201\n",
    "ATCG00500.1           1467\n",
    "Glyma.07G273800.2     3417\n",
    "\n",
    "Provide a two-column file in TSV format: each line contains <gene_id><TAB><species>\n",
    "Should sorted by second column with the recommended bash command: sort -k2,2 gene2sps.imap\n",
    "------------gene2sps.imap---------------------------------------------------------------------------------------------------------\n",
    "AMTR_s00796p00010580  Amborella_trichopoda\n",
    "ATCG00500.1           Arabidopsis_thaliana\n",
    "Glyma.07G273800.2     Glycine_max\n",
    "\n",
    "Provide a two-column file in TSV format: each line contains <gene_id><TAB><plant_family>\n",
    "------------gene2family.imap------------------------------------------------------------------------------------------------------\n",
    "AMTR_s00796p00010580  Amborellaceae\n",
    "ATCG00500.1           Brassicaceae\n",
    "Glyma.07G273800.2     Fabaceae\n",
    "\n",
    "Provide a two-column file in TSV format: each line contains <gene_id><TAB><plant_order>\n",
    "------------gene2order.imap-------------------------------------------------------------------------------------------------------\n",
    "AMTR_s00796p00010580  Amborellales\n",
    "ATCG00500.1           Brassicales\n",
    "Glyma.07G273800.2     Fabales\n",
    "\n",
    "Provide a two-column file in TSV format: each line contains <gene_id><TAB><higher-level_taxa>\n",
    "------------gene2taxa.imap--------------------------------------------------------------------------------------------------------\n",
    "AMTR_s00796p00010580  Angiosperm\n",
    "ATCG00500.1           Malvids\n",
    "Glyma.07G273800.2     Fabids\n",
    "\n",
    "Provide a two-column file in TSV format: each line contains <gene_id><TAB><functional_clade>\n",
    "------------gene2clade.imap-------------------------------------------------------------------------------------------------------\n",
    "AMTR_s00796p00010580  Nitrogen-fixing\n",
    "ATCG00500.1           Nitrogen-fixing\n",
    "Glyma.07G273800.2     non-Nitrogen-fixing\n",
    "\n",
    "Provide a two-column file in TSV format: each line contains <gene_id><TAB><expression_values>\n",
    "------------gene2expression.imap--------------------------------------------------------------------------------------------------\n",
    "AMTR_s00796p00010580  5.0\n",
    "ATCG00500.1           12.0\n",
    "Glyma.07G273800.2     0.0\n",
    "```\n",
    "\n",
    "### Notes\n",
    "- Files can contain any number of annotations.\n",
    "- The annotations will appear sequentially to the right of the gene tips according to the input order."
   ]
  },
  {
   "cell_type": "markdown",
   "id": "470edee9",
   "metadata": {},
   "source": [
    "1_PhyloTree_CollapseExpand"
   ]
  },
  {
   "cell_type": "code",
   "execution_count": 1,
   "id": "81a397ee",
   "metadata": {
    "ExecuteTime": {
     "end_time": "2025-01-17T09:11:34.722013Z",
     "start_time": "2025-01-17T09:11:32.907903Z"
    }
   },
   "outputs": [
    {
     "name": "stdout",
     "output_type": "stream",
     "text": [
      "\n",
      "###############################################################################################\n",
      "#                                                                                             #\n",
      "# ██████╗ ██╗  ██╗██╗   ██╗██╗      ██████╗ ████████╗██████╗  █████╗  ██████╗███████╗██████╗  #\n",
      "# ██╔══██╗██║  ██║╚██╗ ██╔╝██║     ██╔═══██╗╚══██╔══╝██╔══██╗██╔══██╗██╔════╝██╔════╝██╔══██╗ #\n",
      "# ██████╔╝███████║ ╚████╔╝ ██║     ██║   ██║   ██║   ██████╔╝███████║██║     █████╗  ██████╔╝ #\n",
      "# ██╔═══╝ ██╔══██║  ╚██╔╝  ██║     ██║   ██║   ██║   ██╔══██╗██╔══██║██║     ██╔══╝  ██╔══██╗ #\n",
      "# ██║     ██║  ██║   ██║   ███████╗╚██████╔╝   ██║   ██║  ██║██║  ██║╚██████╗███████╗██║  ██║ #\n",
      "# ╚═╝     ╚═╝  ╚═╝   ╚═╝   ╚══════╝ ╚═════╝    ╚═╝   ╚═╝  ╚═╝╚═╝  ╚═╝ ╚═════╝╚══════╝╚═╝  ╚═╝ # \n",
      "#                                                                                             #\n",
      "#    PhyloTracer: A User-Friendly Toolkit for Gene Tree Rooting, Gene Duplication             #\n",
      "#    Identification, Ortholog Retrieval, Phylogenetic Noise Elimination, Species              #\n",
      "#    Hybridization Detection,and Visualization.                                               #\n",
      "#                                                                                             #\n",
      "#    Pypi: https://pypi.org/project/PhyloTracer                                               #\n",
      "#    Github: https://github.com/YiyongZhao/PhyloTracer                                        #\n",
      "#    Licence: MIT license                                                                     #\n",
      "#    Release Date: 2023-7                                                                     #\n",
      "#    Please cite: Li et al. 2024, XXXX.                                                       #\n",
      "#    Contacts: Taoli(Taoli@gmail.com); Yiyong Zhao(yzhao@bwh.harvard.edu)                     #\n",
      "#                                                                                             #\n",
      "###############################################################################################\n",
      "\n",
      "Usage: PhyloTracer PhyloTree_CollapseExpand [-h] --input_GF_list FILE\n",
      "                                            --support_value SUPPORT_VALUE\n",
      "                                            [--revert]\n",
      "\n",
      "Options:\n",
      "  -h, --help            show this help message and exit\n",
      "  --input_GF_list FILE  Path to a file containing gene tree file paths, one\n",
      "                        per line\n",
      "  --support_value SUPPORT_VALUE\n",
      "                        Support value threshold: nodes with support <= this\n",
      "                        value will be transformed\n",
      "  --revert              Revert the \"comb\" structure back to a fully resolved\n",
      "                        binary tree\n"
     ]
    }
   ],
   "source": [
    "python ../Phylo_Tracer.py PhyloTree_CollapseExpand -h"
   ]
  },
  {
   "cell_type": "code",
   "execution_count": 12,
   "id": "91f7fefe",
   "metadata": {
    "ExecuteTime": {
     "end_time": "2025-01-17T08:40:34.636412Z",
     "start_time": "2025-01-17T08:40:32.262859Z"
    }
   },
   "outputs": [
    {
     "name": "stdout",
     "output_type": "stream",
     "text": [
      "\n",
      "###############################################################################################\n",
      "#                                                                                             #\n",
      "# ██████╗ ██╗  ██╗██╗   ██╗██╗      ██████╗ ████████╗██████╗  █████╗  ██████╗███████╗██████╗  #\n",
      "# ██╔══██╗██║  ██║╚██╗ ██╔╝██║     ██╔═══██╗╚══██╔══╝██╔══██╗██╔══██╗██╔════╝██╔════╝██╔══██╗ #\n",
      "# ██████╔╝███████║ ╚████╔╝ ██║     ██║   ██║   ██║   ██████╔╝███████║██║     █████╗  ██████╔╝ #\n",
      "# ██╔═══╝ ██╔══██║  ╚██╔╝  ██║     ██║   ██║   ██║   ██╔══██╗██╔══██║██║     ██╔══╝  ██╔══██╗ #\n",
      "# ██║     ██║  ██║   ██║   ███████╗╚██████╔╝   ██║   ██║  ██║██║  ██║╚██████╗███████╗██║  ██║ #\n",
      "# ╚═╝     ╚═╝  ╚═╝   ╚═╝   ╚══════╝ ╚═════╝    ╚═╝   ╚═╝  ╚═╝╚═╝  ╚═╝ ╚═════╝╚══════╝╚═╝  ╚═╝ # \n",
      "#                                                                                             #\n",
      "#    PhyloTracer: A User-Friendly Toolkit for Gene Tree Rooting, Gene Duplication             #\n",
      "#    Identification, Ortholog Retrieval, Phylogenetic Noise Elimination, Species              #\n",
      "#    Hybridization Detection,and Visualization.                                               #\n",
      "#                                                                                             #\n",
      "#    Pypi: https://pypi.org/project/PhyloTracer                                               #\n",
      "#    Github: https://github.com/YiyongZhao/PhyloTracer                                        #\n",
      "#    Licence: MIT license                                                                     #\n",
      "#    Release Date: 2023-7                                                                     #\n",
      "#    Please cite: Li et al. 2024, XXXX.                                                       #\n",
      "#    Contacts: Taoli(Taoli@gmail.com); Yiyong Zhao(yzhao@bwh.harvard.edu)                     #\n",
      "#                                                                                             #\n",
      "###############################################################################################\n",
      "\n",
      "Processing OG_106076_6: 100%|████████████████| 20/20 [00:00<00:00, 202.92tree/s]\n",
      "Program execution time: 0 d, 0 h, 0 m, 0.21 s\n"
     ]
    }
   ],
   "source": [
    "python ../Phylo_Tracer.py PhyloTree_CollapseExpand --input_GF_list 1_PhyloTree_CollapseExpand/GF_ID2path.imap --support_value 50"
   ]
  },
  {
   "cell_type": "markdown",
   "id": "37b5574c",
   "metadata": {},
   "source": [
    "Partial results of PhyloTree_CollapseExpand"
   ]
  },
  {
   "cell_type": "markdown",
   "id": "5e09aca8",
   "metadata": {},
   "source": [
    "![图片](./result_image/1.png)"
   ]
  },
  {
   "cell_type": "markdown",
   "id": "463c7fac",
   "metadata": {},
   "source": [
    "2_PhyloSupport_Scaler"
   ]
  },
  {
   "cell_type": "code",
   "execution_count": 18,
   "id": "dcc85b02",
   "metadata": {
    "ExecuteTime": {
     "end_time": "2025-01-17T09:13:29.757346Z",
     "start_time": "2025-01-17T09:13:27.826557Z"
    }
   },
   "outputs": [
    {
     "name": "stdout",
     "output_type": "stream",
     "text": [
      "\n",
      "###############################################################################################\n",
      "#                                                                                             #\n",
      "# ██████╗ ██╗  ██╗██╗   ██╗██╗      ██████╗ ████████╗██████╗  █████╗  ██████╗███████╗██████╗  #\n",
      "# ██╔══██╗██║  ██║╚██╗ ██╔╝██║     ██╔═══██╗╚══██╔══╝██╔══██╗██╔══██╗██╔════╝██╔════╝██╔══██╗ #\n",
      "# ██████╔╝███████║ ╚████╔╝ ██║     ██║   ██║   ██║   ██████╔╝███████║██║     █████╗  ██████╔╝ #\n",
      "# ██╔═══╝ ██╔══██║  ╚██╔╝  ██║     ██║   ██║   ██║   ██╔══██╗██╔══██║██║     ██╔══╝  ██╔══██╗ #\n",
      "# ██║     ██║  ██║   ██║   ███████╗╚██████╔╝   ██║   ██║  ██║██║  ██║╚██████╗███████╗██║  ██║ #\n",
      "# ╚═╝     ╚═╝  ╚═╝   ╚═╝   ╚══════╝ ╚═════╝    ╚═╝   ╚═╝  ╚═╝╚═╝  ╚═╝ ╚═════╝╚══════╝╚═╝  ╚═╝ # \n",
      "#                                                                                             #\n",
      "#    PhyloTracer: A User-Friendly Toolkit for Gene Tree Rooting, Gene Duplication             #\n",
      "#    Identification, Ortholog Retrieval, Phylogenetic Noise Elimination, Species              #\n",
      "#    Hybridization Detection,and Visualization.                                               #\n",
      "#                                                                                             #\n",
      "#    Pypi: https://pypi.org/project/PhyloTracer                                               #\n",
      "#    Github: https://github.com/YiyongZhao/PhyloTracer                                        #\n",
      "#    Licence: MIT license                                                                     #\n",
      "#    Release Date: 2023-7                                                                     #\n",
      "#    Please cite: Li et al. 2024, XXXX.                                                       #\n",
      "#    Contacts: Taoli(Taoli@gmail.com); Yiyong Zhao(yzhao@bwh.harvard.edu)                     #\n",
      "#                                                                                             #\n",
      "###############################################################################################\n",
      "\n",
      "Usage: PhyloTracer PhyloSupport_Scaler [-h] --input_GF_list FILE\n",
      "                                       [--scale_to {1,100}]\n",
      "\n",
      "Options:\n",
      "  -h, --help            show this help message and exit\n",
      "  --input_GF_list FILE  Path to a file containing gene tree file paths, one\n",
      "                        per line\n",
      "  --scale_to {1,100}    Scale support values: \"1\" to scale from 1-100 to 0-1,\n",
      "                        or \"100\" to scale from 0-1 to 1-100\n"
     ]
    }
   ],
   "source": [
    "python ../Phylo_Tracer.py  PhyloSupport_Scaler -h"
   ]
  },
  {
   "cell_type": "code",
   "execution_count": 8,
   "id": "625db148",
   "metadata": {
    "ExecuteTime": {
     "end_time": "2025-01-09T07:36:00.441921Z",
     "start_time": "2025-01-09T07:35:58.279126Z"
    }
   },
   "outputs": [
    {
     "name": "stdout",
     "output_type": "stream",
     "text": [
      "\n",
      "###############################################################################################\n",
      "#                                                                                             #\n",
      "# ██████╗ ██╗  ██╗██╗   ██╗██╗      ██████╗ ████████╗██████╗  █████╗  ██████╗███████╗██████╗  #\n",
      "# ██╔══██╗██║  ██║╚██╗ ██╔╝██║     ██╔═══██╗╚══██╔══╝██╔══██╗██╔══██╗██╔════╝██╔════╝██╔══██╗ #\n",
      "# ██████╔╝███████║ ╚████╔╝ ██║     ██║   ██║   ██║   ██████╔╝███████║██║     █████╗  ██████╔╝ #\n",
      "# ██╔═══╝ ██╔══██║  ╚██╔╝  ██║     ██║   ██║   ██║   ██╔══██╗██╔══██║██║     ██╔══╝  ██╔══██╗ #\n",
      "# ██║     ██║  ██║   ██║   ███████╗╚██████╔╝   ██║   ██║  ██║██║  ██║╚██████╗███████╗██║  ██║ #\n",
      "# ╚═╝     ╚═╝  ╚═╝   ╚═╝   ╚══════╝ ╚═════╝    ╚═╝   ╚═╝  ╚═╝╚═╝  ╚═╝ ╚═════╝╚══════╝╚═╝  ╚═╝ # \n",
      "#                                                                                             #\n",
      "#    PhyloTracer: A User-Friendly Toolkit for Gene Tree Rooting, Gene Duplication             #\n",
      "#    Identification, Ortholog Retrieval, Phylogenetic Noise Elimination, Species              #\n",
      "#    Hybridization Detection,and Visualization.                                               #\n",
      "#                                                                                             #\n",
      "#    Pypi: https://pypi.org/project/PhyloTracer                                               #\n",
      "#    Github: https://github.com/YiyongZhao/PhyloTracer                                        #\n",
      "#    Licence: MIT license                                                                     #\n",
      "#    Release Date: 2023-7                                                                     #\n",
      "#    Please cite: Li et al. 2024, XXXX.                                                       #\n",
      "#    Contacts: Taoli(Taoli@gmail.com); Yiyong Zhao(yzhao@bwh.harvard.edu)                     #\n",
      "#                                                                                             #\n",
      "###############################################################################################\n",
      "\n",
      "Processing OG_106076_6: 100%|████████████████| 20/20 [00:00<00:00, 238.28tree/s]\n",
      "Program execution time: 0 d, 0 h, 0 m, 0.11 s\n"
     ]
    }
   ],
   "source": [
    "python ../Phylo_Tracer.py PhyloSupport_Scaler --input_GF_list 2_PhyloSupport_Scaler/GF_ID2path.imap --scale_to 1 "
   ]
  },
  {
   "cell_type": "markdown",
   "id": "7db9f232",
   "metadata": {},
   "source": [
    "Partial results of PhyloTree_CollapseExpand"
   ]
  },
  {
   "cell_type": "markdown",
   "id": "5740e417",
   "metadata": {},
   "source": [
    "![图片](./result_image/2.png)"
   ]
  },
  {
   "cell_type": "markdown",
   "id": "98276e4b",
   "metadata": {},
   "source": [
    "3_BranchLength_NumericConverter"
   ]
  },
  {
   "cell_type": "code",
   "execution_count": 19,
   "id": "f675a4e8",
   "metadata": {
    "ExecuteTime": {
     "end_time": "2025-01-17T09:28:40.855179Z",
     "start_time": "2025-01-17T09:28:35.339889Z"
    }
   },
   "outputs": [
    {
     "name": "stdout",
     "output_type": "stream",
     "text": [
      "\n",
      "###############################################################################################\n",
      "#                                                                                             #\n",
      "# ██████╗ ██╗  ██╗██╗   ██╗██╗      ██████╗ ████████╗██████╗  █████╗  ██████╗███████╗██████╗  #\n",
      "# ██╔══██╗██║  ██║╚██╗ ██╔╝██║     ██╔═══██╗╚══██╔══╝██╔══██╗██╔══██╗██╔════╝██╔════╝██╔══██╗ #\n",
      "# ██████╔╝███████║ ╚████╔╝ ██║     ██║   ██║   ██║   ██████╔╝███████║██║     █████╗  ██████╔╝ #\n",
      "# ██╔═══╝ ██╔══██║  ╚██╔╝  ██║     ██║   ██║   ██║   ██╔══██╗██╔══██║██║     ██╔══╝  ██╔══██╗ #\n",
      "# ██║     ██║  ██║   ██║   ███████╗╚██████╔╝   ██║   ██║  ██║██║  ██║╚██████╗███████╗██║  ██║ #\n",
      "# ╚═╝     ╚═╝  ╚═╝   ╚═╝   ╚══════╝ ╚═════╝    ╚═╝   ╚═╝  ╚═╝╚═╝  ╚═╝ ╚═════╝╚══════╝╚═╝  ╚═╝ # \n",
      "#                                                                                             #\n",
      "#    PhyloTracer: A User-Friendly Toolkit for Gene Tree Rooting, Gene Duplication             #\n",
      "#    Identification, Ortholog Retrieval, Phylogenetic Noise Elimination, Species              #\n",
      "#    Hybridization Detection,and Visualization.                                               #\n",
      "#                                                                                             #\n",
      "#    Pypi: https://pypi.org/project/PhyloTracer                                               #\n",
      "#    Github: https://github.com/YiyongZhao/PhyloTracer                                        #\n",
      "#    Licence: MIT license                                                                     #\n",
      "#    Release Date: 2023-7                                                                     #\n",
      "#    Please cite: Li et al. 2024, XXXX.                                                       #\n",
      "#    Contacts: Taoli(Taoli@gmail.com); Yiyong Zhao(yzhao@bwh.harvard.edu)                     #\n",
      "#                                                                                             #\n",
      "###############################################################################################\n",
      "\n",
      "Usage: PhyloTracer BranchLength_NumericConverter [-h] --input_GF_list file\n",
      "                                                 [--decimal_place DECIMAL_PLACE]\n",
      "\n",
      "Options:\n",
      "  -h, --help            show this help message and exit\n",
      "  --input_GF_list file  File containing paths to gene tree files, one per line\n",
      "  --decimal_place DECIMAL_PLACE\n",
      "                        Return the branch length values to 10 decimal places\n",
      "                        and default = 10\n"
     ]
    }
   ],
   "source": [
    "python ../Phylo_Tracer.py  BranchLength_NumericConverter -h"
   ]
  },
  {
   "cell_type": "code",
   "execution_count": 20,
   "id": "b22ddfc5",
   "metadata": {
    "ExecuteTime": {
     "end_time": "2025-01-18T07:40:57.924894Z",
     "start_time": "2025-01-18T07:40:51.941343Z"
    }
   },
   "outputs": [
    {
     "name": "stdout",
     "output_type": "stream",
     "text": [
      "\n",
      "###############################################################################################\n",
      "#                                                                                             #\n",
      "# ██████╗ ██╗  ██╗██╗   ██╗██╗      ██████╗ ████████╗██████╗  █████╗  ██████╗███████╗██████╗  #\n",
      "# ██╔══██╗██║  ██║╚██╗ ██╔╝██║     ██╔═══██╗╚══██╔══╝██╔══██╗██╔══██╗██╔════╝██╔════╝██╔══██╗ #\n",
      "# ██████╔╝███████║ ╚████╔╝ ██║     ██║   ██║   ██║   ██████╔╝███████║██║     █████╗  ██████╔╝ #\n",
      "# ██╔═══╝ ██╔══██║  ╚██╔╝  ██║     ██║   ██║   ██║   ██╔══██╗██╔══██║██║     ██╔══╝  ██╔══██╗ #\n",
      "# ██║     ██║  ██║   ██║   ███████╗╚██████╔╝   ██║   ██║  ██║██║  ██║╚██████╗███████╗██║  ██║ #\n",
      "# ╚═╝     ╚═╝  ╚═╝   ╚═╝   ╚══════╝ ╚═════╝    ╚═╝   ╚═╝  ╚═╝╚═╝  ╚═╝ ╚═════╝╚══════╝╚═╝  ╚═╝ # \n",
      "#                                                                                             #\n",
      "#    PhyloTracer: A User-Friendly Toolkit for Gene Tree Rooting, Gene Duplication             #\n",
      "#    Identification, Ortholog Retrieval, Phylogenetic Noise Elimination, Species              #\n",
      "#    Hybridization Detection,and Visualization.                                               #\n",
      "#                                                                                             #\n",
      "#    Pypi: https://pypi.org/project/PhyloTracer                                               #\n",
      "#    Github: https://github.com/YiyongZhao/PhyloTracer                                        #\n",
      "#    Licence: MIT license                                                                     #\n",
      "#    Release Date: 2023-7                                                                     #\n",
      "#    Please cite: Li et al. 2024, XXXX.                                                       #\n",
      "#    Contacts: Taoli(Taoli@gmail.com); Yiyong Zhao(yzhao@bwh.harvard.edu)                     #\n",
      "#                                                                                             #\n",
      "###############################################################################################\n",
      "\n",
      "Processing OG_106076_6: 100%|████████████████| 20/20 [00:00<00:00, 228.66tree/s]\n",
      "Program execution time: 0 d, 0 h, 0 m, 0.17 s\n"
     ]
    }
   ],
   "source": [
    "python ../Phylo_Tracer.py BranchLength_NumericConverter --input_GF_list 3_BranchLength_NumericConverter/GF_ID2path.imap "
   ]
  },
  {
   "cell_type": "markdown",
   "id": "1ab4b6ce",
   "metadata": {
    "ExecuteTime": {
     "end_time": "2025-01-18T07:41:06.773761Z",
     "start_time": "2025-01-18T07:41:06.635109Z"
    }
   },
   "source": [
    "Partial results of BranchLength_NumericConverter"
   ]
  },
  {
   "cell_type": "markdown",
   "id": "89a955c5",
   "metadata": {},
   "source": [
    "![图片](./result_image/3.png)"
   ]
  },
  {
   "cell_type": "markdown",
   "id": "e8437e95",
   "metadata": {},
   "source": [
    "4_Phylo_Rooter"
   ]
  },
  {
   "cell_type": "code",
   "execution_count": 22,
   "id": "50f5ec6c",
   "metadata": {
    "ExecuteTime": {
     "end_time": "2025-01-18T07:56:46.493443Z",
     "start_time": "2025-01-18T07:56:43.416490Z"
    }
   },
   "outputs": [
    {
     "name": "stdout",
     "output_type": "stream",
     "text": [
      "\n",
      "###############################################################################################\n",
      "#                                                                                             #\n",
      "# ██████╗ ██╗  ██╗██╗   ██╗██╗      ██████╗ ████████╗██████╗  █████╗  ██████╗███████╗██████╗  #\n",
      "# ██╔══██╗██║  ██║╚██╗ ██╔╝██║     ██╔═══██╗╚══██╔══╝██╔══██╗██╔══██╗██╔════╝██╔════╝██╔══██╗ #\n",
      "# ██████╔╝███████║ ╚████╔╝ ██║     ██║   ██║   ██║   ██████╔╝███████║██║     █████╗  ██████╔╝ #\n",
      "# ██╔═══╝ ██╔══██║  ╚██╔╝  ██║     ██║   ██║   ██║   ██╔══██╗██╔══██║██║     ██╔══╝  ██╔══██╗ #\n",
      "# ██║     ██║  ██║   ██║   ███████╗╚██████╔╝   ██║   ██║  ██║██║  ██║╚██████╗███████╗██║  ██║ #\n",
      "# ╚═╝     ╚═╝  ╚═╝   ╚═╝   ╚══════╝ ╚═════╝    ╚═╝   ╚═╝  ╚═╝╚═╝  ╚═╝ ╚═════╝╚══════╝╚═╝  ╚═╝ # \n",
      "#                                                                                             #\n",
      "#    PhyloTracer: A User-Friendly Toolkit for Gene Tree Rooting, Gene Duplication             #\n",
      "#    Identification, Ortholog Retrieval, Phylogenetic Noise Elimination, Species              #\n",
      "#    Hybridization Detection,and Visualization.                                               #\n",
      "#                                                                                             #\n",
      "#    Pypi: https://pypi.org/project/PhyloTracer                                               #\n",
      "#    Github: https://github.com/YiyongZhao/PhyloTracer                                        #\n",
      "#    Licence: MIT license                                                                     #\n",
      "#    Release Date: 2023-7                                                                     #\n",
      "#    Please cite: Li et al. 2024, XXXX.                                                       #\n",
      "#    Contacts: Taoli(Taoli@gmail.com); Yiyong Zhao(yzhao@bwh.harvard.edu)                     #\n",
      "#                                                                                             #\n",
      "###############################################################################################\n",
      "\n",
      "Usage: PhyloTracer Phylo_Rooter [-h] --input_GF_list file --input_imap file\n",
      "                                [--input_gene_length file] --input_sps_tree\n",
      "                                file\n",
      "\n",
      "Options:\n",
      "  -h, --help            show this help message and exit\n",
      "  --input_GF_list file  File containing paths to gene tree files, one per line\n",
      "  --input_imap file     File with classification information of species\n",
      "                        corresponding to genes\n",
      "  --input_gene_length file\n",
      "                        File with information corresponding to gene length\n",
      "  --input_sps_tree file\n",
      "                        A species tree file with Newick format\n"
     ]
    }
   ],
   "source": [
    "python ../Phylo_Tracer.py  Phylo_Rooter -h"
   ]
  },
  {
   "cell_type": "code",
   "execution_count": 35,
   "id": "b23a392a",
   "metadata": {
    "ExecuteTime": {
     "end_time": "2025-01-18T09:16:02.449832Z",
     "start_time": "2025-01-18T09:16:00.384202Z"
    }
   },
   "outputs": [
    {
     "name": "stdout",
     "output_type": "stream",
     "text": [
      "\n",
      "###############################################################################################\n",
      "#                                                                                             #\n",
      "# ██████╗ ██╗  ██╗██╗   ██╗██╗      ██████╗ ████████╗██████╗  █████╗  ██████╗███████╗██████╗  #\n",
      "# ██╔══██╗██║  ██║╚██╗ ██╔╝██║     ██╔═══██╗╚══██╔══╝██╔══██╗██╔══██╗██╔════╝██╔════╝██╔══██╗ #\n",
      "# ██████╔╝███████║ ╚████╔╝ ██║     ██║   ██║   ██║   ██████╔╝███████║██║     █████╗  ██████╔╝ #\n",
      "# ██╔═══╝ ██╔══██║  ╚██╔╝  ██║     ██║   ██║   ██║   ██╔══██╗██╔══██║██║     ██╔══╝  ██╔══██╗ #\n",
      "# ██║     ██║  ██║   ██║   ███████╗╚██████╔╝   ██║   ██║  ██║██║  ██║╚██████╗███████╗██║  ██║ #\n",
      "# ╚═╝     ╚═╝  ╚═╝   ╚═╝   ╚══════╝ ╚═════╝    ╚═╝   ╚═╝  ╚═╝╚═╝  ╚═╝ ╚═════╝╚══════╝╚═╝  ╚═╝ # \n",
      "#                                                                                             #\n",
      "#    PhyloTracer: A User-Friendly Toolkit for Gene Tree Rooting, Gene Duplication             #\n",
      "#    Identification, Ortholog Retrieval, Phylogenetic Noise Elimination, Species              #\n",
      "#    Hybridization Detection,and Visualization.                                               #\n",
      "#                                                                                             #\n",
      "#    Pypi: https://pypi.org/project/PhyloTracer                                               #\n",
      "#    Github: https://github.com/YiyongZhao/PhyloTracer                                        #\n",
      "#    Licence: MIT license                                                                     #\n",
      "#    Release Date: 2023-7                                                                     #\n",
      "#    Please cite: Li et al. 2024, XXXX.                                                       #\n",
      "#    Contacts: Taoli(Taoli@gmail.com); Yiyong Zhao(yzhao@bwh.harvard.edu)                     #\n",
      "#                                                                                             #\n",
      "###############################################################################################\n",
      "\n",
      "Processing OG_100646_20: 100%|██████████████████| 1/1 [00:00<00:00, 13.01tree/s]\n",
      "Program execution time: 0 d, 0 h, 0 m, 0.11 s\n"
     ]
    }
   ],
   "source": [
    "python ../Phylo_Tracer.py  Phylo_Rooter  --input_GF_list 4_Phylo_Rooter/1.imap --input_imap 4_Phylo_Rooter/gene2sps.imap --input_gene_length 4_Phylo_Rooter/gene2length.imap --input_sps_tree 4_Phylo_Rooter/sptree.nwk"
   ]
  },
  {
   "cell_type": "markdown",
   "id": "843735fd",
   "metadata": {},
   "source": [
    "5_OrthoFilter_LB"
   ]
  },
  {
   "cell_type": "code",
   "execution_count": 37,
   "id": "7882d5f1",
   "metadata": {
    "ExecuteTime": {
     "end_time": "2025-01-18T15:13:56.301094Z",
     "start_time": "2025-01-18T15:13:54.853903Z"
    }
   },
   "outputs": [
    {
     "name": "stdout",
     "output_type": "stream",
     "text": [
      "\n",
      "###############################################################################################\n",
      "#                                                                                             #\n",
      "# ██████╗ ██╗  ██╗██╗   ██╗██╗      ██████╗ ████████╗██████╗  █████╗  ██████╗███████╗██████╗  #\n",
      "# ██╔══██╗██║  ██║╚██╗ ██╔╝██║     ██╔═══██╗╚══██╔══╝██╔══██╗██╔══██╗██╔════╝██╔════╝██╔══██╗ #\n",
      "# ██████╔╝███████║ ╚████╔╝ ██║     ██║   ██║   ██║   ██████╔╝███████║██║     █████╗  ██████╔╝ #\n",
      "# ██╔═══╝ ██╔══██║  ╚██╔╝  ██║     ██║   ██║   ██║   ██╔══██╗██╔══██║██║     ██╔══╝  ██╔══██╗ #\n",
      "# ██║     ██║  ██║   ██║   ███████╗╚██████╔╝   ██║   ██║  ██║██║  ██║╚██████╗███████╗██║  ██║ #\n",
      "# ╚═╝     ╚═╝  ╚═╝   ╚═╝   ╚══════╝ ╚═════╝    ╚═╝   ╚═╝  ╚═╝╚═╝  ╚═╝ ╚═════╝╚══════╝╚═╝  ╚═╝ # \n",
      "#                                                                                             #\n",
      "#    PhyloTracer: A User-Friendly Toolkit for Gene Tree Rooting, Gene Duplication             #\n",
      "#    Identification, Ortholog Retrieval, Phylogenetic Noise Elimination, Species              #\n",
      "#    Hybridization Detection,and Visualization.                                               #\n",
      "#                                                                                             #\n",
      "#    Pypi: https://pypi.org/project/PhyloTracer                                               #\n",
      "#    Github: https://github.com/YiyongZhao/PhyloTracer                                        #\n",
      "#    Licence: MIT license                                                                     #\n",
      "#    Release Date: 2023-7                                                                     #\n",
      "#    Please cite: Li et al. 2024, XXXX.                                                       #\n",
      "#    Contacts: Taoli(Taoli@gmail.com); Yiyong Zhao(yzhao@bwh.harvard.edu)                     #\n",
      "#                                                                                             #\n",
      "###############################################################################################\n",
      "\n",
      "Usage: PhyloTracer OrthoFilter_LB [-h] --input_GF_list file --input_imap file\n",
      "                                  --absolute_branch_length\n",
      "                                  ABSOLUTE_BRANCH_LENGTH\n",
      "                                  --relative_branch_length\n",
      "                                  RELATIVE_BRANCH_LENGTH [--visual]\n",
      "\n",
      "Options:\n",
      "  -h, --help            show this help message and exit\n",
      "  --input_GF_list file  File containing paths to gene tree files, one per line\n",
      "  --input_imap file     File with classification information of species\n",
      "                        corresponding to genes\n",
      "  --absolute_branch_length ABSOLUTE_BRANCH_LENGTH\n",
      "                        Absolute branch length multiplier and default = 5\n",
      "  --relative_branch_length RELATIVE_BRANCH_LENGTH\n",
      "                        Relative branch length multiplier and default = 2.5\n",
      "  --visual              Visualize the results of gene family trees before and\n",
      "                        after removing long branches\n"
     ]
    }
   ],
   "source": [
    "python ../Phylo_Tracer.py  OrthoFilter_LB -h"
   ]
  },
  {
   "cell_type": "code",
   "execution_count": 17,
   "id": "bbe122d3",
   "metadata": {
    "ExecuteTime": {
     "end_time": "2025-01-09T13:08:54.273925Z",
     "start_time": "2025-01-09T13:08:51.604610Z"
    }
   },
   "outputs": [
    {
     "name": "stdout",
     "output_type": "stream",
     "text": [
      "\n",
      "###############################################################################################\n",
      "#                                                                                             #\n",
      "# ██████╗ ██╗  ██╗██╗   ██╗██╗      ██████╗ ████████╗██████╗  █████╗  ██████╗███████╗██████╗  #\n",
      "# ██╔══██╗██║  ██║╚██╗ ██╔╝██║     ██╔═══██╗╚══██╔══╝██╔══██╗██╔══██╗██╔════╝██╔════╝██╔══██╗ #\n",
      "# ██████╔╝███████║ ╚████╔╝ ██║     ██║   ██║   ██║   ██████╔╝███████║██║     █████╗  ██████╔╝ #\n",
      "# ██╔═══╝ ██╔══██║  ╚██╔╝  ██║     ██║   ██║   ██║   ██╔══██╗██╔══██║██║     ██╔══╝  ██╔══██╗ #\n",
      "# ██║     ██║  ██║   ██║   ███████╗╚██████╔╝   ██║   ██║  ██║██║  ██║╚██████╗███████╗██║  ██║ #\n",
      "# ╚═╝     ╚═╝  ╚═╝   ╚═╝   ╚══════╝ ╚═════╝    ╚═╝   ╚═╝  ╚═╝╚═╝  ╚═╝ ╚═════╝╚══════╝╚═╝  ╚═╝ # \n",
      "#                                                                                             #\n",
      "#    PhyloTracer: A User-Friendly Toolkit for Gene Tree Rooting, Gene Duplication             #\n",
      "#    Identification, Ortholog Retrieval, Phylogenetic Noise Elimination, Species              #\n",
      "#    Hybridization Detection,and Visualization.                                               #\n",
      "#                                                                                             #\n",
      "#    Pypi: https://pypi.org/project/PhyloTracer                                               #\n",
      "#    Github: https://github.com/YiyongZhao/PhyloTracer                                        #\n",
      "#    Licence: MIT license                                                                     #\n",
      "#    Release Date: 2023-7                                                                     #\n",
      "#    Please cite: Li et al. 2024, XXXX.                                                       #\n",
      "#    Contacts: Taoli(Taoli@gmail.com); Yiyong Zhao(yzhao@bwh.harvard.edu)                     #\n",
      "#                                                                                             #\n",
      "###############################################################################################\n",
      "\n",
      "Processing OG_106076_6: 100%|█████████████████| 20/20 [00:00<00:00, 79.50tree/s]\n",
      "Program execution time: 0 d, 0 h, 0 m, 0.73 s\n"
     ]
    }
   ],
   "source": [
    "python ../Phylo_Tracer.py  OrthoFilter_LB --input_GF_list  5_OrthoFilter_LB/GF_ID2path.imap --input_imap 5_OrthoFilter_LB/gene2sps.imap  --absolute_branch_length 5 --relative_branch_length 2.5"
   ]
  },
  {
   "cell_type": "markdown",
   "id": "dda3fb56",
   "metadata": {},
   "source": [
    "Partial results of OrthoFilter_LB"
   ]
  },
  {
   "cell_type": "markdown",
   "id": "c4d50f16",
   "metadata": {},
   "source": [
    "![图片](./result_image/5.png)"
   ]
  },
  {
   "cell_type": "markdown",
   "id": "3c6e052c",
   "metadata": {},
   "source": [
    "6_OrthoFilter_Mono"
   ]
  },
  {
   "cell_type": "code",
   "execution_count": 36,
   "id": "ad39e8aa",
   "metadata": {
    "ExecuteTime": {
     "end_time": "2025-01-18T15:13:48.755921Z",
     "start_time": "2025-01-18T15:13:46.795918Z"
    }
   },
   "outputs": [
    {
     "name": "stdout",
     "output_type": "stream",
     "text": [
      "\n",
      "###############################################################################################\n",
      "#                                                                                             #\n",
      "# ██████╗ ██╗  ██╗██╗   ██╗██╗      ██████╗ ████████╗██████╗  █████╗  ██████╗███████╗██████╗  #\n",
      "# ██╔══██╗██║  ██║╚██╗ ██╔╝██║     ██╔═══██╗╚══██╔══╝██╔══██╗██╔══██╗██╔════╝██╔════╝██╔══██╗ #\n",
      "# ██████╔╝███████║ ╚████╔╝ ██║     ██║   ██║   ██║   ██████╔╝███████║██║     █████╗  ██████╔╝ #\n",
      "# ██╔═══╝ ██╔══██║  ╚██╔╝  ██║     ██║   ██║   ██║   ██╔══██╗██╔══██║██║     ██╔══╝  ██╔══██╗ #\n",
      "# ██║     ██║  ██║   ██║   ███████╗╚██████╔╝   ██║   ██║  ██║██║  ██║╚██████╗███████╗██║  ██║ #\n",
      "# ╚═╝     ╚═╝  ╚═╝   ╚═╝   ╚══════╝ ╚═════╝    ╚═╝   ╚═╝  ╚═╝╚═╝  ╚═╝ ╚═════╝╚══════╝╚═╝  ╚═╝ # \n",
      "#                                                                                             #\n",
      "#    PhyloTracer: A User-Friendly Toolkit for Gene Tree Rooting, Gene Duplication             #\n",
      "#    Identification, Ortholog Retrieval, Phylogenetic Noise Elimination, Species              #\n",
      "#    Hybridization Detection,and Visualization.                                               #\n",
      "#                                                                                             #\n",
      "#    Pypi: https://pypi.org/project/PhyloTracer                                               #\n",
      "#    Github: https://github.com/YiyongZhao/PhyloTracer                                        #\n",
      "#    Licence: MIT license                                                                     #\n",
      "#    Release Date: 2023-7                                                                     #\n",
      "#    Please cite: Li et al. 2024, XXXX.                                                       #\n",
      "#    Contacts: Taoli(Taoli@gmail.com); Yiyong Zhao(yzhao@bwh.harvard.edu)                     #\n",
      "#                                                                                             #\n",
      "###############################################################################################\n",
      "\n",
      "Usage: PhyloTracer OrthoFilter_Mono [-h] --input_GF_list file --input_taxa\n",
      "                                    file --input_imap file\n",
      "                                    --branch_length_multiples\n",
      "                                    BRANCH_LENGTH_MULTIPLES\n",
      "                                    --insert_branch_index INSERT_BRANCH_INDEX\n",
      "                                    [--visual]\n",
      "\n",
      "Options:\n",
      "  -h, --help            show this help message and exit\n",
      "  --input_GF_list file  File containing paths to gene tree files, one per line\n",
      "  --input_taxa file     Input taxa file\n",
      "  --input_imap file     File with classification information of species\n",
      "                        corresponding to genes\n",
      "  --branch_length_multiples BRANCH_LENGTH_MULTIPLES\n",
      "                        Branch_length_multiples and default = 10\n",
      "  --insert_branch_index INSERT_BRANCH_INDEX\n",
      "                        Insert_branch_index and default = 10\n",
      "  --visual              Visualize the results of gene family trees before and\n",
      "                        after removing long branches\n"
     ]
    }
   ],
   "source": [
    "python ../Phylo_Tracer.py  OrthoFilter_Mono -h"
   ]
  },
  {
   "cell_type": "code",
   "execution_count": 22,
   "id": "3e7c9874",
   "metadata": {
    "ExecuteTime": {
     "end_time": "2025-01-09T13:23:43.990572Z",
     "start_time": "2025-01-09T13:23:40.768527Z"
    }
   },
   "outputs": [
    {
     "name": "stdout",
     "output_type": "stream",
     "text": [
      "\n",
      "###############################################################################################\n",
      "#                                                                                             #\n",
      "# ██████╗ ██╗  ██╗██╗   ██╗██╗      ██████╗ ████████╗██████╗  █████╗  ██████╗███████╗██████╗  #\n",
      "# ██╔══██╗██║  ██║╚██╗ ██╔╝██║     ██╔═══██╗╚══██╔══╝██╔══██╗██╔══██╗██╔════╝██╔════╝██╔══██╗ #\n",
      "# ██████╔╝███████║ ╚████╔╝ ██║     ██║   ██║   ██║   ██████╔╝███████║██║     █████╗  ██████╔╝ #\n",
      "# ██╔═══╝ ██╔══██║  ╚██╔╝  ██║     ██║   ██║   ██║   ██╔══██╗██╔══██║██║     ██╔══╝  ██╔══██╗ #\n",
      "# ██║     ██║  ██║   ██║   ███████╗╚██████╔╝   ██║   ██║  ██║██║  ██║╚██████╗███████╗██║  ██║ #\n",
      "# ╚═╝     ╚═╝  ╚═╝   ╚═╝   ╚══════╝ ╚═════╝    ╚═╝   ╚═╝  ╚═╝╚═╝  ╚═╝ ╚═════╝╚══════╝╚═╝  ╚═╝ # \n",
      "#                                                                                             #\n",
      "#    PhyloTracer: A User-Friendly Toolkit for Gene Tree Rooting, Gene Duplication             #\n",
      "#    Identification, Ortholog Retrieval, Phylogenetic Noise Elimination, Species              #\n",
      "#    Hybridization Detection,and Visualization.                                               #\n",
      "#                                                                                             #\n",
      "#    Pypi: https://pypi.org/project/PhyloTracer                                               #\n",
      "#    Github: https://github.com/YiyongZhao/PhyloTracer                                        #\n",
      "#    Licence: MIT license                                                                     #\n",
      "#    Release Date: 2023-7                                                                     #\n",
      "#    Please cite: Li et al. 2024, XXXX.                                                       #\n",
      "#    Contacts: Taoli(Taoli@gmail.com); Yiyong Zhao(yzhao@bwh.harvard.edu)                     #\n",
      "#                                                                                             #\n",
      "###############################################################################################\n",
      "\n",
      "Processing OG_106076_6: 100%|█████████████████| 20/20 [00:00<00:00, 47.72tree/s]\n",
      "Program execution time: 0 d, 0 h, 0 m, 1.09 s\n"
     ]
    }
   ],
   "source": [
    "python ../Phylo_Tracer.py  OrthoFilter_Mono --input_GF_list 6_OrthoFilter_Mono/GF_ID2path.imap --input_imap 6_OrthoFilter_Mono/gene2sps.imap --input_taxa 6_OrthoFilter_Mono/gene2clade.imap --branch_length_multiples 10 --insert_branch_index 10"
   ]
  },
  {
   "cell_type": "markdown",
   "id": "209a6f7d",
   "metadata": {},
   "source": [
    "Partial results of OrthoFilter_Mono"
   ]
  },
  {
   "cell_type": "markdown",
   "id": "57721722",
   "metadata": {},
   "source": [
    "![图片](./result_image/6.png)"
   ]
  },
  {
   "cell_type": "markdown",
   "id": "43cfef10",
   "metadata": {},
   "source": [
    "7_TreeTopology_Summarizer"
   ]
  },
  {
   "cell_type": "code",
   "execution_count": 2,
   "id": "f098d0c0",
   "metadata": {
    "ExecuteTime": {
     "end_time": "2025-01-18T15:14:07.144343Z",
     "start_time": "2025-01-18T15:14:05.464890Z"
    }
   },
   "outputs": [
    {
     "name": "stdout",
     "output_type": "stream",
     "text": [
      "\n",
      "###############################################################################################\n",
      "#                                                                                             #\n",
      "# ██████╗ ██╗  ██╗██╗   ██╗██╗      ██████╗ ████████╗██████╗  █████╗  ██████╗███████╗██████╗  #\n",
      "# ██╔══██╗██║  ██║╚██╗ ██╔╝██║     ██╔═══██╗╚══██╔══╝██╔══██╗██╔══██╗██╔════╝██╔════╝██╔══██╗ #\n",
      "# ██████╔╝███████║ ╚████╔╝ ██║     ██║   ██║   ██║   ██████╔╝███████║██║     █████╗  ██████╔╝ #\n",
      "# ██╔═══╝ ██╔══██║  ╚██╔╝  ██║     ██║   ██║   ██║   ██╔══██╗██╔══██║██║     ██╔══╝  ██╔══██╗ #\n",
      "# ██║     ██║  ██║   ██║   ███████╗╚██████╔╝   ██║   ██║  ██║██║  ██║╚██████╗███████╗██║  ██║ #\n",
      "# ╚═╝     ╚═╝  ╚═╝   ╚═╝   ╚══════╝ ╚═════╝    ╚═╝   ╚═╝  ╚═╝╚═╝  ╚═╝ ╚═════╝╚══════╝╚═╝  ╚═╝ # \n",
      "#                                                                                             #\n",
      "#    PhyloTracer: A User-Friendly Toolkit for Gene Tree Rooting, Gene Duplication             #\n",
      "#    Identification, Ortholog Retrieval, Phylogenetic Noise Elimination, Species              #\n",
      "#    Hybridization Detection,and Visualization.                                               #\n",
      "#                                                                                             #\n",
      "#    Pypi: https://pypi.org/project/PhyloTracer                                               #\n",
      "#    Github: https://github.com/YiyongZhao/PhyloTracer                                        #\n",
      "#    Licence: MIT license                                                                     #\n",
      "#    Release Date: 2023-7                                                                     #\n",
      "#    Please cite: Li et al. 2024, XXXX.                                                       #\n",
      "#    Contacts: Taoli(Taoli@gmail.com); Yiyong Zhao(yzhao@bwh.harvard.edu)                     #\n",
      "#                                                                                             #\n",
      "###############################################################################################\n",
      "\n",
      "Usage: PhyloTracer TreeTopology_Summarizer [-h] --input_GF_list file\n",
      "                                           --input_imap file\n",
      "                                           [--visual_top VISUAL_TOP]\n",
      "\n",
      "Options:\n",
      "  -h, --help            show this help message and exit\n",
      "  --input_GF_list file  File containing paths to gene tree files, one per line\n",
      "  --input_imap file     File with classification information of species\n",
      "                        corresponding to genes\n",
      "  --visual_top VISUAL_TOP\n",
      "                        Visualize the result of provide number,default=10\n"
     ]
    }
   ],
   "source": [
    "python ../Phylo_Tracer.py TreeTopology_Summarizer -h"
   ]
  },
  {
   "cell_type": "code",
   "execution_count": 6,
   "id": "4fd6de46",
   "metadata": {
    "ExecuteTime": {
     "end_time": "2025-01-09T13:54:30.407210Z",
     "start_time": "2025-01-09T13:53:41.447018Z"
    }
   },
   "outputs": [
    {
     "name": "stdout",
     "output_type": "stream",
     "text": [
      "\n",
      "###############################################################################################\n",
      "#                                                                                             #\n",
      "# ██████╗ ██╗  ██╗██╗   ██╗██╗      ██████╗ ████████╗██████╗  █████╗  ██████╗███████╗██████╗  #\n",
      "# ██╔══██╗██║  ██║╚██╗ ██╔╝██║     ██╔═══██╗╚══██╔══╝██╔══██╗██╔══██╗██╔════╝██╔════╝██╔══██╗ #\n",
      "# ██████╔╝███████║ ╚████╔╝ ██║     ██║   ██║   ██║   ██████╔╝███████║██║     █████╗  ██████╔╝ #\n",
      "# ██╔═══╝ ██╔══██║  ╚██╔╝  ██║     ██║   ██║   ██║   ██╔══██╗██╔══██║██║     ██╔══╝  ██╔══██╗ #\n",
      "# ██║     ██║  ██║   ██║   ███████╗╚██████╔╝   ██║   ██║  ██║██║  ██║╚██████╗███████╗██║  ██║ #\n",
      "# ╚═╝     ╚═╝  ╚═╝   ╚═╝   ╚══════╝ ╚═════╝    ╚═╝   ╚═╝  ╚═╝╚═╝  ╚═╝ ╚═════╝╚══════╝╚═╝  ╚═╝ # \n",
      "#                                                                                             #\n",
      "#    PhyloTracer: A User-Friendly Toolkit for Gene Tree Rooting, Gene Duplication             #\n",
      "#    Identification, Ortholog Retrieval, Phylogenetic Noise Elimination, Species              #\n",
      "#    Hybridization Detection,and Visualization.                                               #\n",
      "#                                                                                             #\n",
      "#    Pypi: https://pypi.org/project/PhyloTracer                                               #\n",
      "#    Github: https://github.com/YiyongZhao/PhyloTracer                                        #\n",
      "#    Licence: MIT license                                                                     #\n",
      "#    Release Date: 2023-7                                                                     #\n",
      "#    Please cite: Li et al. 2024, XXXX.                                                       #\n",
      "#    Contacts: Taoli(Taoli@gmail.com); Yiyong Zhao(yzhao@bwh.harvard.edu)                     #\n",
      "#                                                                                             #\n",
      "###############################################################################################\n",
      "\n",
      "Program execution time: 0 d, 0 h, 1 m, 9.77 s\n"
     ]
    }
   ],
   "source": [
    "python ../Phylo_Tracer.py TreeTopology_Summarizer --input_GF_list 7_TreeTopology_Summarizer/GF_ID2path.imap --input_imap 7_TreeTopology_Summarizer/gene2sps.imap --visual_top 9"
   ]
  },
  {
   "cell_type": "markdown",
   "id": "fb5b8993",
   "metadata": {},
   "source": [
    "Partial results of TreeTopology_Summarizer"
   ]
  },
  {
   "cell_type": "markdown",
   "id": "c2564afa",
   "metadata": {},
   "source": [
    "- Absolutely treetopology count visualizer"
   ]
  },
  {
   "cell_type": "markdown",
   "id": "f0de4aa6",
   "metadata": {},
   "source": [
    "![图片](./result_image/merge_absolutely_top9.png)"
   ]
  },
  {
   "cell_type": "markdown",
   "id": "ecde9a9a",
   "metadata": {},
   "source": [
    "- Relatively treetopology count visualizer"
   ]
  },
  {
   "cell_type": "markdown",
   "id": "170dc579",
   "metadata": {},
   "source": [
    "![图片](./result_image/merge_relative_top9.png)"
   ]
  },
  {
   "cell_type": "markdown",
   "id": "c6e80309",
   "metadata": {},
   "source": [
    "8_Tree_Visualizer"
   ]
  },
  {
   "cell_type": "code",
   "execution_count": 39,
   "id": "4daa78a7",
   "metadata": {
    "ExecuteTime": {
     "end_time": "2025-01-18T15:14:22.982555Z",
     "start_time": "2025-01-18T15:14:21.303168Z"
    }
   },
   "outputs": [
    {
     "name": "stdout",
     "output_type": "stream",
     "text": [
      "\n",
      "###############################################################################################\n",
      "#                                                                                             #\n",
      "# ██████╗ ██╗  ██╗██╗   ██╗██╗      ██████╗ ████████╗██████╗  █████╗  ██████╗███████╗██████╗  #\n",
      "# ██╔══██╗██║  ██║╚██╗ ██╔╝██║     ██╔═══██╗╚══██╔══╝██╔══██╗██╔══██╗██╔════╝██╔════╝██╔══██╗ #\n",
      "# ██████╔╝███████║ ╚████╔╝ ██║     ██║   ██║   ██║   ██████╔╝███████║██║     █████╗  ██████╔╝ #\n",
      "# ██╔═══╝ ██╔══██║  ╚██╔╝  ██║     ██║   ██║   ██║   ██╔══██╗██╔══██║██║     ██╔══╝  ██╔══██╗ #\n",
      "# ██║     ██║  ██║   ██║   ███████╗╚██████╔╝   ██║   ██║  ██║██║  ██║╚██████╗███████╗██║  ██║ #\n",
      "# ╚═╝     ╚═╝  ╚═╝   ╚═╝   ╚══════╝ ╚═════╝    ╚═╝   ╚═╝  ╚═╝╚═╝  ╚═╝ ╚═════╝╚══════╝╚═╝  ╚═╝ # \n",
      "#                                                                                             #\n",
      "#    PhyloTracer: A User-Friendly Toolkit for Gene Tree Rooting, Gene Duplication             #\n",
      "#    Identification, Ortholog Retrieval, Phylogenetic Noise Elimination, Species              #\n",
      "#    Hybridization Detection,and Visualization.                                               #\n",
      "#                                                                                             #\n",
      "#    Pypi: https://pypi.org/project/PhyloTracer                                               #\n",
      "#    Github: https://github.com/YiyongZhao/PhyloTracer                                        #\n",
      "#    Licence: MIT license                                                                     #\n",
      "#    Release Date: 2023-7                                                                     #\n",
      "#    Please cite: Li et al. 2024, XXXX.                                                       #\n",
      "#    Contacts: Taoli(Taoli@gmail.com); Yiyong Zhao(yzhao@bwh.harvard.edu)                     #\n",
      "#                                                                                             #\n",
      "###############################################################################################\n",
      "\n",
      "Usage: PhyloTracer Tree_Visualizer [-h] --input_GF_list file --input_imap file\n",
      "                                   [--gene_categories file [file ...]]\n",
      "                                   [--keep_branch {1,0}] [--tree_style {r,c}]\n",
      "                                   [--gene_family file]\n",
      "                                   [--input_sps_tree file]\n",
      "                                   [--gene_expression file] [--visual_gd]\n",
      "\n",
      "Options:\n",
      "  -h, --help            show this help message and exit\n",
      "  --input_GF_list file  File containing paths to gene tree files, one per line\n",
      "  --input_imap file     File with classification information of species\n",
      "                        corresponding to genes\n",
      "  --gene_categories file [file ...]\n",
      "                        File with taxonomic information for species\n",
      "  --keep_branch {1,0}   1 or 0 indicates whether or not to preserve branch\n",
      "                        length information\n",
      "  --tree_style {r,c}    The tree style, r is meaning rectangular, c is meaning\n",
      "                        circular\n",
      "  --gene_family file    If you want to mark gene families you need to provide\n",
      "                        this file\n",
      "  --input_sps_tree file\n",
      "                        A species tree file with Newick format\n",
      "  --gene_expression file\n",
      "                        Gene expression level files\n",
      "  --visual_gd           Visualize the gd node of gene family trees\n"
     ]
    }
   ],
   "source": [
    "python ../Phylo_Tracer.py Tree_Visualizer -h"
   ]
  },
  {
   "cell_type": "code",
   "execution_count": 28,
   "id": "620c1ff5",
   "metadata": {
    "ExecuteTime": {
     "end_time": "2025-01-09T14:30:45.676774Z",
     "start_time": "2025-01-09T14:29:23.389284Z"
    }
   },
   "outputs": [
    {
     "name": "stdout",
     "output_type": "stream",
     "text": [
      "\n",
      "###############################################################################################\n",
      "#                                                                                             #\n",
      "# ██████╗ ██╗  ██╗██╗   ██╗██╗      ██████╗ ████████╗██████╗  █████╗  ██████╗███████╗██████╗  #\n",
      "# ██╔══██╗██║  ██║╚██╗ ██╔╝██║     ██╔═══██╗╚══██╔══╝██╔══██╗██╔══██╗██╔════╝██╔════╝██╔══██╗ #\n",
      "# ██████╔╝███████║ ╚████╔╝ ██║     ██║   ██║   ██║   ██████╔╝███████║██║     █████╗  ██████╔╝ #\n",
      "# ██╔═══╝ ██╔══██║  ╚██╔╝  ██║     ██║   ██║   ██║   ██╔══██╗██╔══██║██║     ██╔══╝  ██╔══██╗ #\n",
      "# ██║     ██║  ██║   ██║   ███████╗╚██████╔╝   ██║   ██║  ██║██║  ██║╚██████╗███████╗██║  ██║ #\n",
      "# ╚═╝     ╚═╝  ╚═╝   ╚═╝   ╚══════╝ ╚═════╝    ╚═╝   ╚═╝  ╚═╝╚═╝  ╚═╝ ╚═════╝╚══════╝╚═╝  ╚═╝ # \n",
      "#                                                                                             #\n",
      "#    PhyloTracer: A User-Friendly Toolkit for Gene Tree Rooting, Gene Duplication             #\n",
      "#    Identification, Ortholog Retrieval, Phylogenetic Noise Elimination, Species              #\n",
      "#    Hybridization Detection,and Visualization.                                               #\n",
      "#                                                                                             #\n",
      "#    Pypi: https://pypi.org/project/PhyloTracer                                               #\n",
      "#    Github: https://github.com/YiyongZhao/PhyloTracer                                        #\n",
      "#    Licence: MIT license                                                                     #\n",
      "#    Release Date: 2023-7                                                                     #\n",
      "#    Please cite: Li et al. 2024, XXXX.                                                       #\n",
      "#    Contacts: Taoli(Taoli@gmail.com); Yiyong Zhao(yzhao@bwh.harvard.edu)                     #\n",
      "#                                                                                             #\n",
      "###############################################################################################\n",
      "\n",
      "Processing OG_100360_31: 100%|████████████████| 10/10 [01:18<00:00,  7.89s/tree]\n",
      "Program execution time: 0 d, 0 h, 1 m, 19.93 s\n"
     ]
    }
   ],
   "source": [
    "python ../Phylo_Tracer.py Tree_Visualizer --input_GF_list 8_Tree_Visualizer/GF_ID2path.imap --input_imap 8_Tree_Visualizer/gene2sps.imap --gene_categories 8_Tree_Visualizer/gene2family.imap 8_Tree_Visualizer/gene2order.imap 8_Tree_Visualizer/gene2clade.imap --tree_style r --gene_family 8_Tree_Visualizer/genefamily --keep_branch 1 --input_sps_tree 8_Tree_Visualizer/sptree.nwk --gene_expression 8_Tree_Visualizer/expression.csv "
   ]
  },
  {
   "cell_type": "code",
   "execution_count": null,
   "id": "987f71c3",
   "metadata": {},
   "outputs": [],
   "source": [
    "Partial results of Tree_Visualizer"
   ]
  },
  {
   "cell_type": "markdown",
   "id": "729bb213",
   "metadata": {},
   "source": [
    "![图片](./result_image/8.png)"
   ]
  },
  {
   "cell_type": "markdown",
   "id": "0c54e944",
   "metadata": {},
   "source": [
    "9_GD_Detector"
   ]
  },
  {
   "cell_type": "code",
   "execution_count": 29,
   "id": "66f8ff32",
   "metadata": {
    "ExecuteTime": {
     "end_time": "2025-01-09T15:09:22.360866Z",
     "start_time": "2025-01-09T15:09:19.241534Z"
    }
   },
   "outputs": [
    {
     "name": "stdout",
     "output_type": "stream",
     "text": [
      "\n",
      "###############################################################################################\n",
      "#                                                                                             #\n",
      "# ██████╗ ██╗  ██╗██╗   ██╗██╗      ██████╗ ████████╗██████╗  █████╗  ██████╗███████╗██████╗  #\n",
      "# ██╔══██╗██║  ██║╚██╗ ██╔╝██║     ██╔═══██╗╚══██╔══╝██╔══██╗██╔══██╗██╔════╝██╔════╝██╔══██╗ #\n",
      "# ██████╔╝███████║ ╚████╔╝ ██║     ██║   ██║   ██║   ██████╔╝███████║██║     █████╗  ██████╔╝ #\n",
      "# ██╔═══╝ ██╔══██║  ╚██╔╝  ██║     ██║   ██║   ██║   ██╔══██╗██╔══██║██║     ██╔══╝  ██╔══██╗ #\n",
      "# ██║     ██║  ██║   ██║   ███████╗╚██████╔╝   ██║   ██║  ██║██║  ██║╚██████╗███████╗██║  ██║ #\n",
      "# ╚═╝     ╚═╝  ╚═╝   ╚═╝   ╚══════╝ ╚═════╝    ╚═╝   ╚═╝  ╚═╝╚═╝  ╚═╝ ╚═════╝╚══════╝╚═╝  ╚═╝ # \n",
      "#                                                                                             #\n",
      "#    PhyloTracer: A User-Friendly Toolkit for Gene Tree Rooting, Gene Duplication             #\n",
      "#    Identification, Ortholog Retrieval, Phylogenetic Noise Elimination, Species              #\n",
      "#    Hybridization Detection,and Visualization.                                               #\n",
      "#                                                                                             #\n",
      "#    Pypi: https://pypi.org/project/PhyloTracer                                               #\n",
      "#    Github: https://github.com/YiyongZhao/PhyloTracer                                        #\n",
      "#    Licence: MIT license                                                                     #\n",
      "#    Release Date: 2023-7                                                                     #\n",
      "#    Please cite: Li et al. 2024, XXXX.                                                       #\n",
      "#    Contacts: Taoli(Taoli@gmail.com); Yiyong Zhao(yzhao@bwh.harvard.edu)                     #\n",
      "#                                                                                             #\n",
      "###############################################################################################\n",
      "\n",
      "usage: Phylo_Tracer.py GD_Detector [-h] --input_GF_list file --input_imap file\n",
      "                                   --gd_support GD_SUPPORT --subclade_support\n",
      "                                   SUBCLADE_SUPPORT --dup_species_proportion\n",
      "                                   DUP_SPECIES_PROPORTION --dup_species_num\n",
      "                                   DUP_SPECIES_NUM --input_sps_tree file\n",
      "                                   --deepvar DEEPVAR\n",
      "\n",
      "options:\n",
      "  -h, --help            show this help message and exit\n",
      "  --input_GF_list file  File containing paths to gene tree files, one per line\n",
      "  --input_imap file     File with classification information of species\n",
      "                        corresponding to genes\n",
      "  --gd_support GD_SUPPORT\n",
      "                        GD node support [50-100]\n",
      "  --subclade_support SUBCLADE_SUPPORT\n",
      "                        The subclade support of GD node [0-100]\n",
      "  --dup_species_proportion DUP_SPECIES_PROPORTION\n",
      "                        The proportion of overlappped species from two\n",
      "                        subclade for a GD event with range [0-1] and default =\n",
      "                        0.2\n",
      "  --dup_species_num DUP_SPECIES_NUM\n",
      "                        The number of species with species duplications under\n",
      "                        the GD node\n",
      "  --input_sps_tree file\n",
      "                        A species tree file with Newick format\n",
      "  --deepvar DEEPVAR     Maximum variance of deepth and default = 1\n"
     ]
    }
   ],
   "source": [
    "python ../Phylo_Tracer.py GD_Detector -h"
   ]
  },
  {
   "cell_type": "code",
   "execution_count": 8,
   "id": "ac670c85",
   "metadata": {
    "ExecuteTime": {
     "end_time": "2025-01-09T15:14:00.220545Z",
     "start_time": "2025-01-09T15:13:57.407177Z"
    }
   },
   "outputs": [
    {
     "name": "stdout",
     "output_type": "stream",
     "text": [
      "\n",
      "###############################################################################################\n",
      "#                                                                                             #\n",
      "# ██████╗ ██╗  ██╗██╗   ██╗██╗      ██████╗ ████████╗██████╗  █████╗  ██████╗███████╗██████╗  #\n",
      "# ██╔══██╗██║  ██║╚██╗ ██╔╝██║     ██╔═══██╗╚══██╔══╝██╔══██╗██╔══██╗██╔════╝██╔════╝██╔══██╗ #\n",
      "# ██████╔╝███████║ ╚████╔╝ ██║     ██║   ██║   ██║   ██████╔╝███████║██║     █████╗  ██████╔╝ #\n",
      "# ██╔═══╝ ██╔══██║  ╚██╔╝  ██║     ██║   ██║   ██║   ██╔══██╗██╔══██║██║     ██╔══╝  ██╔══██╗ #\n",
      "# ██║     ██║  ██║   ██║   ███████╗╚██████╔╝   ██║   ██║  ██║██║  ██║╚██████╗███████╗██║  ██║ #\n",
      "# ╚═╝     ╚═╝  ╚═╝   ╚═╝   ╚══════╝ ╚═════╝    ╚═╝   ╚═╝  ╚═╝╚═╝  ╚═╝ ╚═════╝╚══════╝╚═╝  ╚═╝ # \n",
      "#                                                                                             #\n",
      "#    PhyloTracer: A User-Friendly Toolkit for Gene Tree Rooting, Gene Duplication             #\n",
      "#    Identification, Ortholog Retrieval, Phylogenetic Noise Elimination, Species              #\n",
      "#    Hybridization Detection,and Visualization.                                               #\n",
      "#                                                                                             #\n",
      "#    Pypi: https://pypi.org/project/PhyloTracer                                               #\n",
      "#    Github: https://github.com/YiyongZhao/PhyloTracer                                        #\n",
      "#    Licence: MIT license                                                                     #\n",
      "#    Release Date: 2023-7                                                                     #\n",
      "#    Please cite: Li et al. 2024, XXXX.                                                       #\n",
      "#    Contacts: Taoli(Taoli@gmail.com); Yiyong Zhao(yzhao@bwh.harvard.edu)                     #\n",
      "#                                                                                             #\n",
      "###############################################################################################\n",
      "\n",
      "=== Gene Duplication Detection Configuration ===\n",
      "GD node support threshold: 50\n",
      "Subclade support threshold: 50\n",
      "Minimum duplicated species count: 1\n",
      "Duplicated species percentage threshold: 0.5\n",
      "Maximum topology distance: 1\n",
      "===============================================\n",
      "Program execution time: 0 d, 0 h, 0 m, 0.72 s\n"
     ]
    }
   ],
   "source": [
    "python ../Phylo_Tracer.py GD_Detector --input_GF_list 9_GD_Detector/GF_ID2path.imap --input_imap 9_GD_Detector/gene2sps.imap --gd_support 50 --subclade_support 50 --dup_species_proportion 0.5 --dup_species_num 1 --input_sps_tree 9_GD_Detector/sptree.nwk --deepvar 1"
   ]
  },
  {
   "cell_type": "markdown",
   "id": "0205e60e",
   "metadata": {},
   "source": [
    "Partial results of GD_Detector"
   ]
  },
  {
   "cell_type": "markdown",
   "id": "a52273b5",
   "metadata": {},
   "source": [
    "![图片](./result_image/9.png)"
   ]
  },
  {
   "cell_type": "markdown",
   "id": "08e38b1b",
   "metadata": {},
   "source": [
    "10_GD_Visualizer"
   ]
  },
  {
   "cell_type": "code",
   "execution_count": 9,
   "id": "c5db46bf",
   "metadata": {
    "ExecuteTime": {
     "end_time": "2025-01-09T15:22:30.782139Z",
     "start_time": "2025-01-09T15:22:27.628039Z"
    }
   },
   "outputs": [
    {
     "name": "stdout",
     "output_type": "stream",
     "text": [
      "\n",
      "###############################################################################################\n",
      "#                                                                                             #\n",
      "# ██████╗ ██╗  ██╗██╗   ██╗██╗      ██████╗ ████████╗██████╗  █████╗  ██████╗███████╗██████╗  #\n",
      "# ██╔══██╗██║  ██║╚██╗ ██╔╝██║     ██╔═══██╗╚══██╔══╝██╔══██╗██╔══██╗██╔════╝██╔════╝██╔══██╗ #\n",
      "# ██████╔╝███████║ ╚████╔╝ ██║     ██║   ██║   ██║   ██████╔╝███████║██║     █████╗  ██████╔╝ #\n",
      "# ██╔═══╝ ██╔══██║  ╚██╔╝  ██║     ██║   ██║   ██║   ██╔══██╗██╔══██║██║     ██╔══╝  ██╔══██╗ #\n",
      "# ██║     ██║  ██║   ██║   ███████╗╚██████╔╝   ██║   ██║  ██║██║  ██║╚██████╗███████╗██║  ██║ #\n",
      "# ╚═╝     ╚═╝  ╚═╝   ╚═╝   ╚══════╝ ╚═════╝    ╚═╝   ╚═╝  ╚═╝╚═╝  ╚═╝ ╚═════╝╚══════╝╚═╝  ╚═╝ # \n",
      "#                                                                                             #\n",
      "#    PhyloTracer: A User-Friendly Toolkit for Gene Tree Rooting, Gene Duplication             #\n",
      "#    Identification, Ortholog Retrieval, Phylogenetic Noise Elimination, Species              #\n",
      "#    Hybridization Detection,and Visualization.                                               #\n",
      "#                                                                                             #\n",
      "#    Pypi: https://pypi.org/project/PhyloTracer                                               #\n",
      "#    Github: https://github.com/YiyongZhao/PhyloTracer                                        #\n",
      "#    Licence: MIT license                                                                     #\n",
      "#    Release Date: 2023-7                                                                     #\n",
      "#    Please cite: Li et al. 2024, XXXX.                                                       #\n",
      "#    Contacts: Taoli(Taoli@gmail.com); Yiyong Zhao(yzhao@bwh.harvard.edu)                     #\n",
      "#                                                                                             #\n",
      "###############################################################################################\n",
      "\n",
      "Program execution time: 0 d, 0 h, 0 m, 1.18 s\n"
     ]
    }
   ],
   "source": [
    "python ../Phylo_Tracer.py GD_Visualizer --input_sps_tree ./10_GD_Visualizer/numed_sptree.nwk --gd_result 10_GD_Visualizer/gd_result.txt --input_imap 10_GD_Visualizer/gene2sps.imap "
   ]
  },
  {
   "cell_type": "markdown",
   "id": "f0e84bc9",
   "metadata": {},
   "source": [
    "Partial results of GD_Visualizer"
   ]
  },
  {
   "cell_type": "markdown",
   "id": "5bed18eb",
   "metadata": {},
   "source": [
    "![图片](./result_image/10.png)"
   ]
  },
  {
   "cell_type": "markdown",
   "id": "2fed3470",
   "metadata": {},
   "source": [
    "11_GD_Loss_Tracker"
   ]
  },
  {
   "cell_type": "code",
   "execution_count": 10,
   "id": "35624dc6",
   "metadata": {
    "ExecuteTime": {
     "end_time": "2025-01-09T15:26:28.083766Z",
     "start_time": "2025-01-09T15:26:25.150963Z"
    }
   },
   "outputs": [
    {
     "name": "stdout",
     "output_type": "stream",
     "text": [
      "\n",
      "###############################################################################################\n",
      "#                                                                                             #\n",
      "# ██████╗ ██╗  ██╗██╗   ██╗██╗      ██████╗ ████████╗██████╗  █████╗  ██████╗███████╗██████╗  #\n",
      "# ██╔══██╗██║  ██║╚██╗ ██╔╝██║     ██╔═══██╗╚══██╔══╝██╔══██╗██╔══██╗██╔════╝██╔════╝██╔══██╗ #\n",
      "# ██████╔╝███████║ ╚████╔╝ ██║     ██║   ██║   ██║   ██████╔╝███████║██║     █████╗  ██████╔╝ #\n",
      "# ██╔═══╝ ██╔══██║  ╚██╔╝  ██║     ██║   ██║   ██║   ██╔══██╗██╔══██║██║     ██╔══╝  ██╔══██╗ #\n",
      "# ██║     ██║  ██║   ██║   ███████╗╚██████╔╝   ██║   ██║  ██║██║  ██║╚██████╗███████╗██║  ██║ #\n",
      "# ╚═╝     ╚═╝  ╚═╝   ╚═╝   ╚══════╝ ╚═════╝    ╚═╝   ╚═╝  ╚═╝╚═╝  ╚═╝ ╚═════╝╚══════╝╚═╝  ╚═╝ # \n",
      "#                                                                                             #\n",
      "#    PhyloTracer: A User-Friendly Toolkit for Gene Tree Rooting, Gene Duplication             #\n",
      "#    Identification, Ortholog Retrieval, Phylogenetic Noise Elimination, Species              #\n",
      "#    Hybridization Detection,and Visualization.                                               #\n",
      "#                                                                                             #\n",
      "#    Pypi: https://pypi.org/project/PhyloTracer                                               #\n",
      "#    Github: https://github.com/YiyongZhao/PhyloTracer                                        #\n",
      "#    Licence: MIT license                                                                     #\n",
      "#    Release Date: 2023-7                                                                     #\n",
      "#    Please cite: Li et al. 2024, XXXX.                                                       #\n",
      "#    Contacts: Taoli(Taoli@gmail.com); Yiyong Zhao(yzhao@bwh.harvard.edu)                     #\n",
      "#                                                                                             #\n",
      "###############################################################################################\n",
      "\n",
      "Usage: PhyloTracer GD_Loss_Tracker [-h] --input_GF_list file --input_sps_tree\n",
      "                                   file --input_imap file\n",
      "\n",
      "Options:\n",
      "  -h, --help            show this help message and exit\n",
      "  --input_GF_list file  File containing paths to gene tree files, one per line\n",
      "  --input_sps_tree file\n",
      "                        A species tree file with Newick format\n",
      "  --input_imap file     File with classification information of species\n",
      "                        corresponding to genes\n"
     ]
    }
   ],
   "source": [
    "python ../Phylo_Tracer.py GD_Loss_Tracker -h "
   ]
  },
  {
   "cell_type": "code",
   "execution_count": 12,
   "id": "20fb37f2",
   "metadata": {
    "ExecuteTime": {
     "end_time": "2025-01-09T15:33:22.637997Z",
     "start_time": "2025-01-09T15:29:08.788390Z"
    }
   },
   "outputs": [
    {
     "name": "stdout",
     "output_type": "stream",
     "text": [
      "\n",
      "###############################################################################################\n",
      "#                                                                                             #\n",
      "# ██████╗ ██╗  ██╗██╗   ██╗██╗      ██████╗ ████████╗██████╗  █████╗  ██████╗███████╗██████╗  #\n",
      "# ██╔══██╗██║  ██║╚██╗ ██╔╝██║     ██╔═══██╗╚══██╔══╝██╔══██╗██╔══██╗██╔════╝██╔════╝██╔══██╗ #\n",
      "# ██████╔╝███████║ ╚████╔╝ ██║     ██║   ██║   ██║   ██████╔╝███████║██║     █████╗  ██████╔╝ #\n",
      "# ██╔═══╝ ██╔══██║  ╚██╔╝  ██║     ██║   ██║   ██║   ██╔══██╗██╔══██║██║     ██╔══╝  ██╔══██╗ #\n",
      "# ██║     ██║  ██║   ██║   ███████╗╚██████╔╝   ██║   ██║  ██║██║  ██║╚██████╗███████╗██║  ██║ #\n",
      "# ╚═╝     ╚═╝  ╚═╝   ╚═╝   ╚══════╝ ╚═════╝    ╚═╝   ╚═╝  ╚═╝╚═╝  ╚═╝ ╚═════╝╚══════╝╚═╝  ╚═╝ # \n",
      "#                                                                                             #\n",
      "#    PhyloTracer: A User-Friendly Toolkit for Gene Tree Rooting, Gene Duplication             #\n",
      "#    Identification, Ortholog Retrieval, Phylogenetic Noise Elimination, Species              #\n",
      "#    Hybridization Detection,and Visualization.                                               #\n",
      "#                                                                                             #\n",
      "#    Pypi: https://pypi.org/project/PhyloTracer                                               #\n",
      "#    Github: https://github.com/YiyongZhao/PhyloTracer                                        #\n",
      "#    Licence: MIT license                                                                     #\n",
      "#    Release Date: 2023-7                                                                     #\n",
      "#    Please cite: Li et al. 2024, XXXX.                                                       #\n",
      "#    Contacts: Taoli(Taoli@gmail.com); Yiyong Zhao(yzhao@bwh.harvard.edu)                     #\n",
      "#                                                                                             #\n",
      "###############################################################################################\n",
      "\n",
      "Program execution time: 0 d, 0 h, 6 m, 13.49 s\n"
     ]
    }
   ],
   "source": [
    "python ../Phylo_Tracer.py GD_Loss_Tracker --input_GF_list 11_GD_Loss_Tracker/GF_ID2path.imap --input_sps_tree 11_GD_Loss_Tracker/sptree.nwk --input_imap 11_GD_Loss_Tracker/gene2sps.imap "
   ]
  },
  {
   "cell_type": "markdown",
   "id": "814cad72",
   "metadata": {},
   "source": [
    "Partial results of GD_Loss_Tracker"
   ]
  },
  {
   "cell_type": "markdown",
   "id": "6a095073",
   "metadata": {},
   "source": [
    "![图片](./result_image/11.png)"
   ]
  },
  {
   "cell_type": "markdown",
   "id": "6b9c86e9",
   "metadata": {},
   "source": [
    "12_GD_Loss_Visualizer"
   ]
  },
  {
   "cell_type": "code",
   "execution_count": 13,
   "id": "5b07741f",
   "metadata": {
    "ExecuteTime": {
     "end_time": "2025-01-10T07:41:08.812343Z",
     "start_time": "2025-01-10T07:41:05.955392Z"
    }
   },
   "outputs": [
    {
     "name": "stdout",
     "output_type": "stream",
     "text": [
      "\n",
      "###############################################################################################\n",
      "#                                                                                             #\n",
      "# ██████╗ ██╗  ██╗██╗   ██╗██╗      ██████╗ ████████╗██████╗  █████╗  ██████╗███████╗██████╗  #\n",
      "# ██╔══██╗██║  ██║╚██╗ ██╔╝██║     ██╔═══██╗╚══██╔══╝██╔══██╗██╔══██╗██╔════╝██╔════╝██╔══██╗ #\n",
      "# ██████╔╝███████║ ╚████╔╝ ██║     ██║   ██║   ██║   ██████╔╝███████║██║     █████╗  ██████╔╝ #\n",
      "# ██╔═══╝ ██╔══██║  ╚██╔╝  ██║     ██║   ██║   ██║   ██╔══██╗██╔══██║██║     ██╔══╝  ██╔══██╗ #\n",
      "# ██║     ██║  ██║   ██║   ███████╗╚██████╔╝   ██║   ██║  ██║██║  ██║╚██████╗███████╗██║  ██║ #\n",
      "# ╚═╝     ╚═╝  ╚═╝   ╚═╝   ╚══════╝ ╚═════╝    ╚═╝   ╚═╝  ╚═╝╚═╝  ╚═╝ ╚═════╝╚══════╝╚═╝  ╚═╝ # \n",
      "#                                                                                             #\n",
      "#    PhyloTracer: A User-Friendly Toolkit for Gene Tree Rooting, Gene Duplication             #\n",
      "#    Identification, Ortholog Retrieval, Phylogenetic Noise Elimination, Species              #\n",
      "#    Hybridization Detection,and Visualization.                                               #\n",
      "#                                                                                             #\n",
      "#    Pypi: https://pypi.org/project/PhyloTracer                                               #\n",
      "#    Github: https://github.com/YiyongZhao/PhyloTracer                                        #\n",
      "#    Licence: MIT license                                                                     #\n",
      "#    Release Date: 2023-7                                                                     #\n",
      "#    Please cite: Li et al. 2024, XXXX.                                                       #\n",
      "#    Contacts: Taoli(Taoli@gmail.com); Yiyong Zhao(yzhao@bwh.harvard.edu)                     #\n",
      "#                                                                                             #\n",
      "###############################################################################################\n",
      "\n",
      "Usage: PhyloTracer GD_Loss_Visualizer [-h] --gd_loss_result file\n",
      "                                      [--input_sps_tree file]\n",
      "\n",
      "Options:\n",
      "  -h, --help            show this help message and exit\n",
      "  --gd_loss_result file\n",
      "                        Result file of gd loss count summary of\n",
      "                        GD_Loss_Tracker\n",
      "  --input_sps_tree file\n",
      "                        A numbered species tree file with Newick format\n"
     ]
    }
   ],
   "source": [
    "python ../Phylo_Tracer.py GD_Loss_Visualizer -h "
   ]
  },
  {
   "cell_type": "code",
   "execution_count": 15,
   "id": "b10c4905",
   "metadata": {
    "ExecuteTime": {
     "end_time": "2025-01-10T07:45:28.427303Z",
     "start_time": "2025-01-10T07:45:25.976540Z"
    }
   },
   "outputs": [
    {
     "name": "stdout",
     "output_type": "stream",
     "text": [
      "\n",
      "###############################################################################################\n",
      "#                                                                                             #\n",
      "# ██████╗ ██╗  ██╗██╗   ██╗██╗      ██████╗ ████████╗██████╗  █████╗  ██████╗███████╗██████╗  #\n",
      "# ██╔══██╗██║  ██║╚██╗ ██╔╝██║     ██╔═══██╗╚══██╔══╝██╔══██╗██╔══██╗██╔════╝██╔════╝██╔══██╗ #\n",
      "# ██████╔╝███████║ ╚████╔╝ ██║     ██║   ██║   ██║   ██████╔╝███████║██║     █████╗  ██████╔╝ #\n",
      "# ██╔═══╝ ██╔══██║  ╚██╔╝  ██║     ██║   ██║   ██║   ██╔══██╗██╔══██║██║     ██╔══╝  ██╔══██╗ #\n",
      "# ██║     ██║  ██║   ██║   ███████╗╚██████╔╝   ██║   ██║  ██║██║  ██║╚██████╗███████╗██║  ██║ #\n",
      "# ╚═╝     ╚═╝  ╚═╝   ╚═╝   ╚══════╝ ╚═════╝    ╚═╝   ╚═╝  ╚═╝╚═╝  ╚═╝ ╚═════╝╚══════╝╚═╝  ╚═╝ # \n",
      "#                                                                                             #\n",
      "#    PhyloTracer: A User-Friendly Toolkit for Gene Tree Rooting, Gene Duplication             #\n",
      "#    Identification, Ortholog Retrieval, Phylogenetic Noise Elimination, Species              #\n",
      "#    Hybridization Detection,and Visualization.                                               #\n",
      "#                                                                                             #\n",
      "#    Pypi: https://pypi.org/project/PhyloTracer                                               #\n",
      "#    Github: https://github.com/YiyongZhao/PhyloTracer                                        #\n",
      "#    Licence: MIT license                                                                     #\n",
      "#    Release Date: 2023-7                                                                     #\n",
      "#    Please cite: Li et al. 2024, XXXX.                                                       #\n",
      "#    Contacts: Taoli(Taoli@gmail.com); Yiyong Zhao(yzhao@bwh.harvard.edu)                     #\n",
      "#                                                                                             #\n",
      "###############################################################################################\n",
      "\n",
      "Program execution time: 0 d, 0 h, 0 m, 9.89 s\n"
     ]
    }
   ],
   "source": [
    "python ../Phylo_Tracer.py GD_Loss_Visualizer   --gd_loss_result 12_GD_Loss_Visualizer/gd_loss_summary.txt --input_sps_tree 12_GD_Loss_Visualizer/numed_sptree.nwk"
   ]
  },
  {
   "cell_type": "markdown",
   "id": "4bd6ecb6",
   "metadata": {},
   "source": [
    "Partial results of GD_Loss_Visualizer"
   ]
  },
  {
   "cell_type": "markdown",
   "id": "e93faca0",
   "metadata": {},
   "source": [
    "![图片](./result_image/12.png)"
   ]
  },
  {
   "cell_type": "markdown",
   "id": "73b60c5f",
   "metadata": {},
   "source": [
    "13_Ortho_Retriever"
   ]
  },
  {
   "cell_type": "code",
   "execution_count": 54,
   "id": "2b5a2e0b",
   "metadata": {
    "ExecuteTime": {
     "end_time": "2025-01-10T07:59:47.247048Z",
     "start_time": "2025-01-10T07:59:43.719159Z"
    }
   },
   "outputs": [
    {
     "name": "stdout",
     "output_type": "stream",
     "text": [
      "\n",
      "###############################################################################################\n",
      "#                                                                                             #\n",
      "# ██████╗ ██╗  ██╗██╗   ██╗██╗      ██████╗ ████████╗██████╗  █████╗  ██████╗███████╗██████╗  #\n",
      "# ██╔══██╗██║  ██║╚██╗ ██╔╝██║     ██╔═══██╗╚══██╔══╝██╔══██╗██╔══██╗██╔════╝██╔════╝██╔══██╗ #\n",
      "# ██████╔╝███████║ ╚████╔╝ ██║     ██║   ██║   ██║   ██████╔╝███████║██║     █████╗  ██████╔╝ #\n",
      "# ██╔═══╝ ██╔══██║  ╚██╔╝  ██║     ██║   ██║   ██║   ██╔══██╗██╔══██║██║     ██╔══╝  ██╔══██╗ #\n",
      "# ██║     ██║  ██║   ██║   ███████╗╚██████╔╝   ██║   ██║  ██║██║  ██║╚██████╗███████╗██║  ██║ #\n",
      "# ╚═╝     ╚═╝  ╚═╝   ╚═╝   ╚══════╝ ╚═════╝    ╚═╝   ╚═╝  ╚═╝╚═╝  ╚═╝ ╚═════╝╚══════╝╚═╝  ╚═╝ # \n",
      "#                                                                                             #\n",
      "#    PhyloTracer: A User-Friendly Toolkit for Gene Tree Rooting, Gene Duplication             #\n",
      "#    Identification, Ortholog Retrieval, Phylogenetic Noise Elimination, Species              #\n",
      "#    Hybridization Detection,and Visualization.                                               #\n",
      "#                                                                                             #\n",
      "#    Pypi: https://pypi.org/project/PhyloTracer                                               #\n",
      "#    Github: https://github.com/YiyongZhao/PhyloTracer                                        #\n",
      "#    Licence: MIT license                                                                     #\n",
      "#    Release Date: 2023-7                                                                     #\n",
      "#    Please cite: Li et al. 2024, XXXX.                                                       #\n",
      "#    Contacts: Taoli(Taoli@gmail.com); Yiyong Zhao(yzhao@bwh.harvard.edu)                     #\n",
      "#                                                                                             #\n",
      "###############################################################################################\n",
      "\n",
      "usage: Phylo_Tracer.py Ortho_Retriever [-h] --input_GF_list file --input_imap\n",
      "                                       file --input_gene_length file\n",
      "\n",
      "options:\n",
      "  -h, --help            show this help message and exit\n",
      "  --input_GF_list file  File containing paths to gene tree files, one per line\n",
      "  --input_imap file     File with classification information of species\n",
      "                        corresponding to genes\n",
      "  --input_gene_length file\n",
      "                        File with information corresponding to gene length\n"
     ]
    }
   ],
   "source": [
    "python ../Phylo_Tracer.py Ortho_Retriever -h "
   ]
  },
  {
   "cell_type": "code",
   "execution_count": 55,
   "id": "9d16876d",
   "metadata": {
    "ExecuteTime": {
     "end_time": "2025-01-10T08:01:40.280567Z",
     "start_time": "2025-01-10T08:01:37.792916Z"
    }
   },
   "outputs": [
    {
     "name": "stdout",
     "output_type": "stream",
     "text": [
      "\n",
      "###############################################################################################\n",
      "#                                                                                             #\n",
      "# ██████╗ ██╗  ██╗██╗   ██╗██╗      ██████╗ ████████╗██████╗  █████╗  ██████╗███████╗██████╗  #\n",
      "# ██╔══██╗██║  ██║╚██╗ ██╔╝██║     ██╔═══██╗╚══██╔══╝██╔══██╗██╔══██╗██╔════╝██╔════╝██╔══██╗ #\n",
      "# ██████╔╝███████║ ╚████╔╝ ██║     ██║   ██║   ██║   ██████╔╝███████║██║     █████╗  ██████╔╝ #\n",
      "# ██╔═══╝ ██╔══██║  ╚██╔╝  ██║     ██║   ██║   ██║   ██╔══██╗██╔══██║██║     ██╔══╝  ██╔══██╗ #\n",
      "# ██║     ██║  ██║   ██║   ███████╗╚██████╔╝   ██║   ██║  ██║██║  ██║╚██████╗███████╗██║  ██║ #\n",
      "# ╚═╝     ╚═╝  ╚═╝   ╚═╝   ╚══════╝ ╚═════╝    ╚═╝   ╚═╝  ╚═╝╚═╝  ╚═╝ ╚═════╝╚══════╝╚═╝  ╚═╝ # \n",
      "#                                                                                             #\n",
      "#    PhyloTracer: A User-Friendly Toolkit for Gene Tree Rooting, Gene Duplication             #\n",
      "#    Identification, Ortholog Retrieval, Phylogenetic Noise Elimination, Species              #\n",
      "#    Hybridization Detection,and Visualization.                                               #\n",
      "#                                                                                             #\n",
      "#    Pypi: https://pypi.org/project/PhyloTracer                                               #\n",
      "#    Github: https://github.com/YiyongZhao/PhyloTracer                                        #\n",
      "#    Licence: MIT license                                                                     #\n",
      "#    Release Date: 2023-7                                                                     #\n",
      "#    Please cite: Li et al. 2024, XXXX.                                                       #\n",
      "#    Contacts: Taoli(Taoli@gmail.com); Yiyong Zhao(yzhao@bwh.harvard.edu)                     #\n",
      "#                                                                                             #\n",
      "###############################################################################################\n",
      "\n",
      "Program execution time: 0 d, 0 h, 0 m, 0.25 s\n"
     ]
    }
   ],
   "source": [
    "python ../Phylo_Tracer.py Ortho_Retriever --input_GF_list 13_Ortho_Retriever/GF_ID2path.imap --input_imap 13_Ortho_Retriever/gene2sps.imap --input_gene_length 13_Ortho_Retriever/gene2length.imap\n"
   ]
  },
  {
   "cell_type": "markdown",
   "id": "4c498472",
   "metadata": {},
   "source": [
    "Partial results of Ortho_Retriever"
   ]
  },
  {
   "cell_type": "markdown",
   "id": "175abe84",
   "metadata": {},
   "source": [
    "![图片](./result_image/13.png)"
   ]
  },
  {
   "cell_type": "markdown",
   "id": "c14f3ff1",
   "metadata": {},
   "source": [
    "14_Hybrid_Tracer"
   ]
  },
  {
   "cell_type": "code",
   "execution_count": 16,
   "id": "d64bf7ae",
   "metadata": {
    "ExecuteTime": {
     "end_time": "2025-01-10T08:04:40.916582Z",
     "start_time": "2025-01-10T08:04:37.824937Z"
    }
   },
   "outputs": [
    {
     "name": "stdout",
     "output_type": "stream",
     "text": [
      "\n",
      "###############################################################################################\n",
      "#                                                                                             #\n",
      "# ██████╗ ██╗  ██╗██╗   ██╗██╗      ██████╗ ████████╗██████╗  █████╗  ██████╗███████╗██████╗  #\n",
      "# ██╔══██╗██║  ██║╚██╗ ██╔╝██║     ██╔═══██╗╚══██╔══╝██╔══██╗██╔══██╗██╔════╝██╔════╝██╔══██╗ #\n",
      "# ██████╔╝███████║ ╚████╔╝ ██║     ██║   ██║   ██║   ██████╔╝███████║██║     █████╗  ██████╔╝ #\n",
      "# ██╔═══╝ ██╔══██║  ╚██╔╝  ██║     ██║   ██║   ██║   ██╔══██╗██╔══██║██║     ██╔══╝  ██╔══██╗ #\n",
      "# ██║     ██║  ██║   ██║   ███████╗╚██████╔╝   ██║   ██║  ██║██║  ██║╚██████╗███████╗██║  ██║ #\n",
      "# ╚═╝     ╚═╝  ╚═╝   ╚═╝   ╚══════╝ ╚═════╝    ╚═╝   ╚═╝  ╚═╝╚═╝  ╚═╝ ╚═════╝╚══════╝╚═╝  ╚═╝ # \n",
      "#                                                                                             #\n",
      "#    PhyloTracer: A User-Friendly Toolkit for Gene Tree Rooting, Gene Duplication             #\n",
      "#    Identification, Ortholog Retrieval, Phylogenetic Noise Elimination, Species              #\n",
      "#    Hybridization Detection,and Visualization.                                               #\n",
      "#                                                                                             #\n",
      "#    Pypi: https://pypi.org/project/PhyloTracer                                               #\n",
      "#    Github: https://github.com/YiyongZhao/PhyloTracer                                        #\n",
      "#    Licence: MIT license                                                                     #\n",
      "#    Release Date: 2023-7                                                                     #\n",
      "#    Please cite: Li et al. 2024, XXXX.                                                       #\n",
      "#    Contacts: Taoli(Taoli@gmail.com); Yiyong Zhao(yzhao@bwh.harvard.edu)                     #\n",
      "#                                                                                             #\n",
      "###############################################################################################\n",
      "\n",
      "Usage: PhyloTracer Hybrid_Tracer [-h] --input_GF_list file --input_Seq_GF_list\n",
      "                                 file --input_sps_tree file --input_imap file\n",
      "                                 [--target_node file]\n",
      "                                 [--split_groups SPLIT_GROUPS]\n",
      "\n",
      "Options:\n",
      "  -h, --help            show this help message and exit\n",
      "  --input_GF_list file  File containing paths to gene tree files, one per line\n",
      "  --input_Seq_GF_list file\n",
      "                        File containing paths to sequence alignment files\n",
      "                        corresponding to the gene trees\n",
      "  --input_sps_tree file\n",
      "                        A species tree file with Newick format\n",
      "  --input_imap file     File with classification information of species\n",
      "                        corresponding to genes\n",
      "  --target_node file    Specific node to process. Use \"all\" to process all\n",
      "                        gd_names.\n",
      "  --split_groups SPLIT_GROUPS\n",
      "                        Split the GD data into a target number of groups for\n",
      "                        Hyde processing, and default = 1\n"
     ]
    }
   ],
   "source": [
    "python ../Phylo_Tracer.py Hybrid_Tracer -h "
   ]
  },
  {
   "cell_type": "code",
   "execution_count": 21,
   "id": "b63d513a",
   "metadata": {
    "ExecuteTime": {
     "end_time": "2025-01-10T08:16:23.609962Z",
     "start_time": "2025-01-10T08:16:14.802363Z"
    }
   },
   "outputs": [
    {
     "name": "stdout",
     "output_type": "stream",
     "text": [
      "\n",
      "###############################################################################################\n",
      "#                                                                                             #\n",
      "# ██████╗ ██╗  ██╗██╗   ██╗██╗      ██████╗ ████████╗██████╗  █████╗  ██████╗███████╗██████╗  #\n",
      "# ██╔══██╗██║  ██║╚██╗ ██╔╝██║     ██╔═══██╗╚══██╔══╝██╔══██╗██╔══██╗██╔════╝██╔════╝██╔══██╗ #\n",
      "# ██████╔╝███████║ ╚████╔╝ ██║     ██║   ██║   ██║   ██████╔╝███████║██║     █████╗  ██████╔╝ #\n",
      "# ██╔═══╝ ██╔══██║  ╚██╔╝  ██║     ██║   ██║   ██║   ██╔══██╗██╔══██║██║     ██╔══╝  ██╔══██╗ #\n",
      "# ██║     ██║  ██║   ██║   ███████╗╚██████╔╝   ██║   ██║  ██║██║  ██║╚██████╗███████╗██║  ██║ #\n",
      "# ╚═╝     ╚═╝  ╚═╝   ╚═╝   ╚══════╝ ╚═════╝    ╚═╝   ╚═╝  ╚═╝╚═╝  ╚═╝ ╚═════╝╚══════╝╚═╝  ╚═╝ # \n",
      "#                                                                                             #\n",
      "#    PhyloTracer: A User-Friendly Toolkit for Gene Tree Rooting, Gene Duplication             #\n",
      "#    Identification, Ortholog Retrieval, Phylogenetic Noise Elimination, Species              #\n",
      "#    Hybridization Detection,and Visualization.                                               #\n",
      "#                                                                                             #\n",
      "#    Pypi: https://pypi.org/project/PhyloTracer                                               #\n",
      "#    Github: https://github.com/YiyongZhao/PhyloTracer                                        #\n",
      "#    Licence: MIT license                                                                     #\n",
      "#    Release Date: 2023-7                                                                     #\n",
      "#    Please cite: Li et al. 2024, XXXX.                                                       #\n",
      "#    Contacts: Taoli(Taoli@gmail.com); Yiyong Zhao(yzhao@bwh.harvard.edu)                     #\n",
      "#                                                                                             #\n",
      "###############################################################################################\n",
      "\n",
      "Target node determined: N1\n",
      "N1 is processing\n",
      "Total gene duplication events in dataset: 212\n",
      "Number of parallel processing groups: 1\n",
      "Gene duplication events partitioned into 1 processing batches\n",
      "Batch 1: 212 gene duplication events\n",
      "Warning: No valid matrices found for GD group N1. Returning empty result.\n",
      "Program execution time: 0 d, 0 h, 0 m, 1.17 s\n"
     ]
   "source": [
    "python ../Phylo_Tracer.py Hybrid_Tracer --input_GF_list 14_Hybrid_Tracer/GF_ID2path.imap --input_Seq_GF_list 14_Hybrid_Tracer/Seq_GF_ID2path.imap --input_sps_tree 14_Hybrid_Tracer/sptree.nwk --input_imap 14_Hybrid_Tracer/gene2sps.imap --target_node 14_Hybrid_Tracer/N1.txt"
   ]
  },
  {
   "cell_type": "markdown",
   "id": "79f79849",
   "metadata": {},
   "source": [
    "Partial results of Hybrid_Tracer"
   ]
  },
  {
   "cell_type": "markdown",
   "id": "877522bc",
   "metadata": {},
   "source": [
    "![图片](./result_image/14.png)"
   ]
  },
  {
   "cell_type": "markdown",
   "id": "4ac2f897",
   "metadata": {},
   "source": [
    "15_Hybrid_Visualizer"
   ]
  },
  {
   "cell_type": "code",
   "execution_count": 18,
   "id": "99d5b274",
   "metadata": {
    "ExecuteTime": {
     "end_time": "2025-01-10T08:19:50.315523Z",
     "start_time": "2025-01-10T08:19:47.587455Z"
    }
   },
   "outputs": [
    {
     "name": "stdout",
     "output_type": "stream",
     "text": [
      "\n",
      "###############################################################################################\n",
      "#                                                                                             #\n",
      "# ██████╗ ██╗  ██╗██╗   ██╗██╗      ██████╗ ████████╗██████╗  █████╗  ██████╗███████╗██████╗  #\n",
      "# ██╔══██╗██║  ██║╚██╗ ██╔╝██║     ██╔═══██╗╚══██╔══╝██╔══██╗██╔══██╗██╔════╝██╔════╝██╔══██╗ #\n",
      "# ██████╔╝███████║ ╚████╔╝ ██║     ██║   ██║   ██║   ██████╔╝███████║██║     █████╗  ██████╔╝ #\n",
      "# ██╔═══╝ ██╔══██║  ╚██╔╝  ██║     ██║   ██║   ██║   ██╔══██╗██╔══██║██║     ██╔══╝  ██╔══██╗ #\n",
      "# ██║     ██║  ██║   ██║   ███████╗╚██████╔╝   ██║   ██║  ██║██║  ██║╚██████╗███████╗██║  ██║ #\n",
      "# ╚═╝     ╚═╝  ╚═╝   ╚═╝   ╚══════╝ ╚═════╝    ╚═╝   ╚═╝  ╚═╝╚═╝  ╚═╝ ╚═════╝╚══════╝╚═╝  ╚═╝ # \n",
      "#                                                                                             #\n",
      "#    PhyloTracer: A User-Friendly Toolkit for Gene Tree Rooting, Gene Duplication             #\n",
      "#    Identification, Ortholog Retrieval, Phylogenetic Noise Elimination, Species              #\n",
      "#    Hybridization Detection,and Visualization.                                               #\n",
      "#                                                                                             #\n",
      "#    Pypi: https://pypi.org/project/PhyloTracer                                               #\n",
      "#    Github: https://github.com/YiyongZhao/PhyloTracer                                        #\n",
      "#    Licence: MIT license                                                                     #\n",
      "#    Release Date: 2023-7                                                                     #\n",
      "#    Please cite: Li et al. 2024, XXXX.                                                       #\n",
      "#    Contacts: Taoli(Taoli@gmail.com); Yiyong Zhao(yzhao@bwh.harvard.edu)                     #\n",
      "#                                                                                             #\n",
      "###############################################################################################\n",
      "\n",
      "Usage: PhyloTracer Hybrid_Visualizer [-h] --hyde_out file --input_sps_tree\n",
      "                                     file [--node]\n",
      "\n",
      "Options:\n",
      "  -h, --help            show this help message and exit\n",
      "  --hyde_out file       File containing result of hyde\n",
      "  --input_sps_tree file\n",
      "                        A species tree file with Newick format\n",
      "  --node                Node model, stack up all the heatmaps for each\n",
      "                        monophyletic clade respectively, only the squares in\n",
      "                        all heatmaps were light, the square after\n",
      "                        superimposition will be light\n"
     ]
    }
   ],
   "source": [
    "python ../Phylo_Tracer.py Hybrid_Visualizer -h "
   ]
  },
  {
   "cell_type": "code",
   "execution_count": 19,
   "id": "94094c65",
   "metadata": {
    "ExecuteTime": {
     "end_time": "2025-01-10T08:21:49.712653Z",
     "start_time": "2025-01-10T08:20:45.456285Z"
    }
   },
   "outputs": [
    {
     "name": "stdout",
     "output_type": "stream",
     "text": [
      "\n",
      "###############################################################################################\n",
      "#                                                                                             #\n",
      "# ██████╗ ██╗  ██╗██╗   ██╗██╗      ██████╗ ████████╗██████╗  █████╗  ██████╗███████╗██████╗  #\n",
      "# ██╔══██╗██║  ██║╚██╗ ██╔╝██║     ██╔═══██╗╚══██╔══╝██╔══██╗██╔══██╗██╔════╝██╔════╝██╔══██╗ #\n",
      "# ██████╔╝███████║ ╚████╔╝ ██║     ██║   ██║   ██║   ██████╔╝███████║██║     █████╗  ██████╔╝ #\n",
      "# ██╔═══╝ ██╔══██║  ╚██╔╝  ██║     ██║   ██║   ██║   ██╔══██╗██╔══██║██║     ██╔══╝  ██╔══██╗ #\n",
      "# ██║     ██║  ██║   ██║   ███████╗╚██████╔╝   ██║   ██║  ██║██║  ██║╚██████╗███████╗██║  ██║ #\n",
      "# ╚═╝     ╚═╝  ╚═╝   ╚═╝   ╚══════╝ ╚═════╝    ╚═╝   ╚═╝  ╚═╝╚═╝  ╚═╝ ╚═════╝╚══════╝╚═╝  ╚═╝ # \n",
      "#                                                                                             #\n",
      "#    PhyloTracer: A User-Friendly Toolkit for Gene Tree Rooting, Gene Duplication             #\n",
      "#    Identification, Ortholog Retrieval, Phylogenetic Noise Elimination, Species              #\n",
      "#    Hybridization Detection,and Visualization.                                               #\n",
      "#                                                                                             #\n",
      "#    Pypi: https://pypi.org/project/PhyloTracer                                               #\n",
      "#    Github: https://github.com/YiyongZhao/PhyloTracer                                        #\n",
      "#    Licence: MIT license                                                                     #\n",
      "#    Release Date: 2023-7                                                                     #\n",
      "#    Please cite: Li et al. 2024, XXXX.                                                       #\n",
      "#    Contacts: Taoli(Taoli@gmail.com); Yiyong Zhao(yzhao@bwh.harvard.edu)                     #\n",
      "#                                                                                             #\n",
      "###############################################################################################\n",
      "\n",
      "Trifolium_pratense is processing\n",
      "Glycine_max is processing\n",
      "Arachis_hypogaea is processing\n",
      "Arachis_ipaensis is processing\n",
      "Arachis_duranensis is processing\n",
      "Medicago_truncatula is processing\n",
      "Program execution time: 0 d, 0 h, 1 m, 7.96 s\n"
     ]
    }
   ],
   "source": [
    "python ../Phylo_Tracer.py Hybrid_Visualizer --hyde_out 15_Hybrid_Visualizer/hyde_out.txt  --input_sps_tree 15_Hybrid_Visualizer/sptree.nwk "
   ]
  },
  {
   "cell_type": "markdown",
   "id": "d7c614ed",
   "metadata": {},
   "source": [
    "Partial results of Hybrid_Visualizer"
   ]
  },
  {
   "cell_type": "markdown",
   "id": "cff602ce",
   "metadata": {},
   "source": [
    "![图片](./result_image/15.png)"
   ]
  },
  {
   "cell_type": "markdown",
   "id": "98ca2a61",
   "metadata": {},
   "source": [
    "16_Haplofinder"
   ]
  },
  {
   "cell_type": "code",
   "execution_count": 1,
   "id": "9d294b47",
   "metadata": {
    "ExecuteTime": {
     "end_time": "2025-01-18T16:23:35.251799Z",
     "start_time": "2025-01-18T16:23:32.024620Z"
    }
   },
   "outputs": [
    {
     "name": "stdout",
     "output_type": "stream",
     "text": [
      "\n",
      "###############################################################################################\n",
      "#                                                                                             #\n",
      "# ██████╗ ██╗  ██╗██╗   ██╗██╗      ██████╗ ████████╗██████╗  █████╗  ██████╗███████╗██████╗  #\n",
      "# ██╔══██╗██║  ██║╚██╗ ██╔╝██║     ██╔═══██╗╚══██╔══╝██╔══██╗██╔══██╗██╔════╝██╔════╝██╔══██╗ #\n",
      "# ██████╔╝███████║ ╚████╔╝ ██║     ██║   ██║   ██║   ██████╔╝███████║██║     █████╗  ██████╔╝ #\n",
      "# ██╔═══╝ ██╔══██║  ╚██╔╝  ██║     ██║   ██║   ██║   ██╔══██╗██╔══██║██║     ██╔══╝  ██╔══██╗ #\n",
      "# ██║     ██║  ██║   ██║   ███████╗╚██████╔╝   ██║   ██║  ██║██║  ██║╚██████╗███████╗██║  ██║ #\n",
      "# ╚═╝     ╚═╝  ╚═╝   ╚═╝   ╚══════╝ ╚═════╝    ╚═╝   ╚═╝  ╚═╝╚═╝  ╚═╝ ╚═════╝╚══════╝╚═╝  ╚═╝ # \n",
      "#                                                                                             #\n",
      "#    PhyloTracer: A User-Friendly Toolkit for Gene Tree Rooting, Gene Duplication             #\n",
      "#    Identification, Ortholog Retrieval, Phylogenetic Noise Elimination, Species              #\n",
      "#    Hybridization Detection,and Visualization.                                               #\n",
      "#                                                                                             #\n",
      "#    Pypi: https://pypi.org/project/PhyloTracer                                               #\n",
      "#    Github: https://github.com/YiyongZhao/PhyloTracer                                        #\n",
      "#    Licence: MIT license                                                                     #\n",
      "#    Release Date: 2023-7                                                                     #\n",
      "#    Please cite: Li et al. 2024, XXXX.                                                       #\n",
      "#    Contacts: Taoli(Taoli@gmail.com); Yiyong Zhao(yzhao@bwh.harvard.edu)                     #\n",
      "#                                                                                             #\n",
      "###############################################################################################\n",
      "\n",
      "Usage: PhyloTracer HaploFinder [-h] [--input_GF_list FILE] [--input_imap FILE]\n",
      "                               [--species_a SPECIES_A] [--species_b SPECIES_B]\n",
      "                               [--species_a_gff FILE] [--species_b_gff FILE]\n",
      "                               [--species_a_lens FILE] [--species_b_lens FILE]\n",
      "                               [--visual_chr_a FILE] [--visual_chr_b FILE]\n",
      "                               [--gd_support GD_SUPPORT]\n",
      "                               [--pair_support PAIR_SUPPORT] [--size SIZE]\n",
      "                               [--mode {haplofinder,split}]\n",
      "                               [--hyb_sps HYB_SPS]\n",
      "                               [--parental_sps PARENTAL_SPS]\n",
      "                               [--input_fasta FILE] [--cluster_file FILE]\n",
      "\n",
      "Options:\n",
      "  -h, --help            show this help message and exit\n",
      "  --input_GF_list FILE  File containing paths to gene tree files, one per line\n",
      "                        file (required for haplofinder mode)\n",
      "  --input_imap FILE     File with classification information of species\n",
      "                        corresponding to genes (required for haplofinder mode)\n",
      "  --species_a SPECIES_A\n",
      "                        Name of species A (required for haplofinder mode)\n",
      "  --species_b SPECIES_B\n",
      "                        Name of species B (required for haplofinder mode)\n",
      "  --species_a_gff FILE  GFF file of species A (required for haplofinder mode)\n",
      "  --species_b_gff FILE  GFF file of species B (required for haplofinder mode)\n",
      "  --species_a_lens FILE\n",
      "                        Lens file of species A (required for haplofinder mode)\n",
      "  --species_b_lens FILE\n",
      "                        Lens file of species B (required for haplofinder mode)\n",
      "  --visual_chr_a FILE   A file containing the chromosome numbers of species a\n",
      "  --visual_chr_b FILE   A file containing the chromosome numbers of species b\n",
      "  --gd_support GD_SUPPORT\n",
      "                        GD node support [50-100] (required for haplofinder\n",
      "                        mode)\n",
      "  --pair_support PAIR_SUPPORT\n",
      "                        gene pair support [50-100] (required for haplofinder\n",
      "                        mode)\n",
      "  --size SIZE           The size of each point in the dopolot graph and\n",
      "                        default = 0.0005\n",
      "  --mode {haplofinder,split}\n",
      "                        Choose mode: \"haplofinder\" for gene duplication\n",
      "                        detection and visualization, \"split\" for FASTA file\n",
      "                        separation based on colorlabel\n",
      "  --hyb_sps HYB_SPS     Name of hybrid species (required for split mode)\n",
      "  --parental_sps PARENTAL_SPS\n",
      "                        Name of parental species (required for split mode)\n",
      "  --input_fasta FILE    Input protein FASTA file (required for split mode)\n",
      "  --cluster_file FILE   Input cluster file (required for split mode)\n"
     ]
    }
   ],
   "source": [
    "python ../Phylo_Tracer.py HaploFinder -h"
   ]
  },
  {
   "cell_type": "code",
   "execution_count": 2,
   "id": "f6887306",
   "metadata": {
    "ExecuteTime": {
     "end_time": "2025-01-18T15:22:20.683602Z",
     "start_time": "2025-01-18T15:21:50.635967Z"
    }
   },
   "outputs": [
    {
     "name": "stdout",
     "output_type": "stream",
     "text": [
      "\n",
      "###############################################################################################\n",
      "#                                                                                             #\n",
      "# ██████╗ ██╗  ██╗██╗   ██╗██╗      ██████╗ ████████╗██████╗  █████╗  ██████╗███████╗██████╗  #\n",
      "# ██╔══██╗██║  ██║╚██╗ ██╔╝██║     ██╔═══██╗╚══██╔══╝██╔══██╗██╔══██╗██╔════╝██╔════╝██╔══██╗ #\n",
      "# ██████╔╝███████║ ╚████╔╝ ██║     ██║   ██║   ██║   ██████╔╝███████║██║     █████╗  ██████╔╝ #\n",
      "# ██╔═══╝ ██╔══██║  ╚██╔╝  ██║     ██║   ██║   ██║   ██╔══██╗██╔══██║██║     ██╔══╝  ██╔══██╗ #\n",
      "# ██║     ██║  ██║   ██║   ███████╗╚██████╔╝   ██║   ██║  ██║██║  ██║╚██████╗███████╗██║  ██║ #\n",
      "# ╚═╝     ╚═╝  ╚═╝   ╚═╝   ╚══════╝ ╚═════╝    ╚═╝   ╚═╝  ╚═╝╚═╝  ╚═╝ ╚═════╝╚══════╝╚═╝  ╚═╝ # \n",
      "#                                                                                             #\n",
      "#    PhyloTracer: A User-Friendly Toolkit for Gene Tree Rooting, Gene Duplication             #\n",
      "#    Identification, Ortholog Retrieval, Phylogenetic Noise Elimination, Species              #\n",
      "#    Hybridization Detection,and Visualization.                                               #\n",
      "#                                                                                             #\n",
      "#    Pypi: https://pypi.org/project/PhyloTracer                                               #\n",
      "#    Github: https://github.com/YiyongZhao/PhyloTracer                                        #\n",
      "#    Licence: MIT license                                                                     #\n",
      "#    Release Date: 2023-7                                                                     #\n",
      "#    Please cite: Li et al. 2024, XXXX.                                                       #\n",
      "#    Contacts: Taoli(Taoli@gmail.com); Yiyong Zhao(yzhao@bwh.harvard.edu)                     #\n",
      "#                                                                                             #\n",
      "###############################################################################################\n",
      "\n",
      "Dotplot of gd_pairs are ready to begin\n",
      "Reading gff took 0.2725059986114502 second\n",
      "Reading lens took 0.0005409717559814453 second\n",
      "Reading lebel_pairs took 0.020383119583129883 second\n",
      "Dealing lebel_pairs took 0.19546175003051758 second\n",
      "Ploting dot took 14.327451229095459 second\n",
      "gd_pairs Dotplot totaly took 19.847934007644653 second\n",
      "Program execution time: 0 d, 0 h, 0 m, 24.26 s\n"
     ]
    }
   ],
   "source": [
    "python ../Phylo_Tracer.py HaploFinder --input_GF_list 16_Haplofinder/GF_ID2path.imap --input_imap 16_Haplofinder/gene2sps.imap --species_a ard --species_b arh --species_a_gff 16_Haplofinder/ard.gff --species_b_gff 16_Haplofinder/arh.gff --species_a_lens 16_Haplofinder/ard.len --species_b_lens 16_Haplofinder/arh.len  --gd_support 50 --pair_support 50 --mode haplofinder"
   ]
  },
  {
   "cell_type": "code",
   "execution_count": null,
   "id": "0a2beb34-7c81-4e57-b405-28694ed4e34c",
   "metadata": {},
   "outputs": [],
   "source": [
    "python ../Phylo_Tracer.py HaploFinder --input_GF_list 16_Haplofinder/GF_ID2path.imap --input_imap 16_Haplofinder/gene2sps.imap --species_a ard --species_b arh --species_a_gff 16_Haplofinder/ard.gff --species_b_gff 16_Haplofinder/arh.gff --species_a_lens 16_Haplofinder/ard.len --species_b_lens 16_Haplofinder/arh.len  --gd_support 50 --pair_support 50 --mode split "
   ]
  },
  {
   "cell_type": "markdown",
   "id": "a71ff03f",
   "metadata": {
    "ExecuteTime": {
     "end_time": "2025-01-10T09:28:09.542003Z",
     "start_time": "2025-01-10T09:28:09.425650Z"
    }
   },
   "source": [
    "Partial results of HaploFinder"
   ]
  },
  {
   "cell_type": "markdown",
   "id": "4537101d",
   "metadata": {},
   "source": [
    "![图片](./result_image/16.png)"
   ]
  },
  {
   "cell_type": "markdown",
   "id": "71f33f8f",
   "metadata": {},
   "source": [
    "## 4. Frequently Asked Questions (FAQ)\n",
    "\n",
    "### **4.1 Why are images not displayed?**\n",
    "Ensure that the image path is correct, use relative paths, and make sure the image files are in the same directory level as the Notebook or the exported HTML file.\n",
    "\n",
    "### **4.2 How to report an issue?**\n",
    "If you encounter any issues, you can submit a report via the [GitHub Issues page](https://github.com/YiyongZhao/PhyloTracer/issues).\n",
    "\n",
    "---\n",
    "\n",
    "## 5. Contact Us\n",
    "- **Primary Developers:**\n",
    "  - Taoli (l948777439@163.com)\n",
    "  - Yiyong Zhao (yiyongzhao1991@gmail.com)\n",
    "\n",
    "- **GitHub:** [PhyloTracer Project Homepage](https://github.com/YiyongZhao/PhyloTracer)\n",
    "\n",
    "---\n",
    "\n",
    "With the above content, you can quickly start using PhyloTracer. For additional help, feel free to contact the development team or refer to the related documentation.\n"
   ]
  }
 ],
 "metadata": {
  "kernelspec": {
   "display_name": "Bash",
   "language": "bash",
   "name": "bash"
  },
  "language_info": {
   "codemirror_mode": "shell",
   "file_extension": ".sh",
   "mimetype": "text/x-sh",
   "name": "bash"
  }
 },
 "nbformat": 4,
 "nbformat_minor": 5
}
